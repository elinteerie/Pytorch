{
  "nbformat": 4,
  "nbformat_minor": 0,
  "metadata": {
    "colab": {
      "name": "Getting Started With Pytorch",
      "provenance": [],
      "mount_file_id": "1rBkWn9196fUdhb-qlaDvGVYqmLES0FbE",
      "authorship_tag": "ABX9TyMiyDT4gZyLIvBTb5v48Lyn",
      "include_colab_link": true
    },
    "kernelspec": {
      "name": "python3",
      "display_name": "Python 3"
    },
    "language_info": {
      "name": "python"
    },
    "accelerator": "GPU",
    "gpuClass": "standard"
  },
  "cells": [
    {
      "cell_type": "markdown",
      "metadata": {
        "id": "view-in-github",
        "colab_type": "text"
      },
      "source": [
        "<a href=\"https://colab.research.google.com/github/elinteerie/Pytorch/blob/main/Getting_Started_With_Pytorch.ipynb\" target=\"_parent\"><img src=\"https://colab.research.google.com/assets/colab-badge.svg\" alt=\"Open In Colab\"/></a>"
      ]
    },
    {
      "cell_type": "code",
      "execution_count": 202,
      "metadata": {
        "colab": {
          "base_uri": "https://localhost:8080/"
        },
        "id": "rZ88t-0NHnJG",
        "outputId": "366bb2d8-7bc8-4e6e-edbc-05db530ad735"
      },
      "outputs": [
        {
          "output_type": "execute_result",
          "data": {
            "text/plain": [
              "<torch._C.Generator at 0x7f1593b51a30>"
            ]
          },
          "metadata": {},
          "execution_count": 202
        }
      ],
      "source": [
        "import torch\n",
        "\n",
        "import os\n",
        "\n",
        "import numpy as np\n",
        "from tqdm import tqdm\n",
        "import seaborn as sns\n",
        "from pylab import rcParams\n",
        "import matplotlib.pyplot as plt\n",
        "from matplotlib import rc\n",
        "from sklearn.model_selection import train_test_split\n",
        "from sklearn.metrics import confusion_matrix, classification_report\n",
        "import pandas as pd\n",
        "\n",
        "from torch import nn, optim\n",
        "\n",
        "import torch.nn.functional as F\n",
        "\n",
        "\n",
        "RANDOM_SEED = 42\n",
        "np.random.seed(RANDOM_SEED)\n",
        "torch.manual_seed(RANDOM_SEED)"
      ]
    },
    {
      "cell_type": "code",
      "source": [
        "file = '/content/drive/MyDrive/datafiles/weatherAUS.csv'"
      ],
      "metadata": {
        "id": "WRCrpMnaIM8o"
      },
      "execution_count": 203,
      "outputs": []
    },
    {
      "cell_type": "code",
      "source": [
        "df = pd.read_csv(file)"
      ],
      "metadata": {
        "id": "cgKPRKhkIq0t"
      },
      "execution_count": 204,
      "outputs": []
    },
    {
      "cell_type": "code",
      "source": [
        "df.shape"
      ],
      "metadata": {
        "colab": {
          "base_uri": "https://localhost:8080/"
        },
        "id": "hfQ-d_bmJ1-s",
        "outputId": "8b0545e0-7fbb-4937-bed5-5c3f237d4768"
      },
      "execution_count": 205,
      "outputs": [
        {
          "output_type": "execute_result",
          "data": {
            "text/plain": [
              "(145460, 23)"
            ]
          },
          "metadata": {},
          "execution_count": 205
        }
      ]
    },
    {
      "cell_type": "code",
      "source": [
        "df.columns"
      ],
      "metadata": {
        "colab": {
          "base_uri": "https://localhost:8080/"
        },
        "id": "yux57cHuJ9FA",
        "outputId": "c275ecfd-c360-4ec9-fb4e-8e3e5e8fb349"
      },
      "execution_count": 206,
      "outputs": [
        {
          "output_type": "execute_result",
          "data": {
            "text/plain": [
              "Index(['Date', 'Location', 'MinTemp', 'MaxTemp', 'Rainfall', 'Evaporation',\n",
              "       'Sunshine', 'WindGustDir', 'WindGustSpeed', 'WindDir9am', 'WindDir3pm',\n",
              "       'WindSpeed9am', 'WindSpeed3pm', 'Humidity9am', 'Humidity3pm',\n",
              "       'Pressure9am', 'Pressure3pm', 'Cloud9am', 'Cloud3pm', 'Temp9am',\n",
              "       'Temp3pm', 'RainToday', 'RainTomorrow'],\n",
              "      dtype='object')"
            ]
          },
          "metadata": {},
          "execution_count": 206
        }
      ]
    },
    {
      "cell_type": "code",
      "source": [
        "cols = ['Rainfall', 'Humidity3pm', 'Pressure9am', 'RainToday', 'RainTomorrow']"
      ],
      "metadata": {
        "id": "xmeP6fWyKDGW"
      },
      "execution_count": 207,
      "outputs": []
    },
    {
      "cell_type": "code",
      "source": [
        "df = df[cols]"
      ],
      "metadata": {
        "id": "v78PgBONKXaY"
      },
      "execution_count": 208,
      "outputs": []
    },
    {
      "cell_type": "code",
      "source": [
        "df.shape"
      ],
      "metadata": {
        "colab": {
          "base_uri": "https://localhost:8080/"
        },
        "id": "MAfiePCPKZxQ",
        "outputId": "f41e2211-3f68-450f-a4da-18f5dd5871e2"
      },
      "execution_count": 209,
      "outputs": [
        {
          "output_type": "execute_result",
          "data": {
            "text/plain": [
              "(145460, 5)"
            ]
          },
          "metadata": {},
          "execution_count": 209
        }
      ]
    },
    {
      "cell_type": "code",
      "source": [
        "df.RainToday"
      ],
      "metadata": {
        "colab": {
          "base_uri": "https://localhost:8080/"
        },
        "id": "ljc_6YsrKbET",
        "outputId": "2977598d-70ce-4413-a456-5a946a4319c4"
      },
      "execution_count": 210,
      "outputs": [
        {
          "output_type": "execute_result",
          "data": {
            "text/plain": [
              "0         No\n",
              "1         No\n",
              "2         No\n",
              "3         No\n",
              "4         No\n",
              "          ..\n",
              "145455    No\n",
              "145456    No\n",
              "145457    No\n",
              "145458    No\n",
              "145459    No\n",
              "Name: RainToday, Length: 145460, dtype: object"
            ]
          },
          "metadata": {},
          "execution_count": 210
        }
      ]
    },
    {
      "cell_type": "code",
      "source": [
        "df['RainToday'].replace({'No': 0, 'Yes': 1}, inplace = True)\n",
        "df['RainTomorrow'].replace({'No': 0, 'Yes': 1}, inplace = True)"
      ],
      "metadata": {
        "id": "JhU_QLQmOXgK"
      },
      "execution_count": 211,
      "outputs": []
    },
    {
      "cell_type": "code",
      "source": [
        "df.RainToday.unique()"
      ],
      "metadata": {
        "colab": {
          "base_uri": "https://localhost:8080/"
        },
        "id": "00vTETGVOpF4",
        "outputId": "d8bb98a8-7c3c-42c3-9174-90bd61f0a91c"
      },
      "execution_count": 212,
      "outputs": [
        {
          "output_type": "execute_result",
          "data": {
            "text/plain": [
              "array([ 0.,  1., nan])"
            ]
          },
          "metadata": {},
          "execution_count": 212
        }
      ]
    },
    {
      "cell_type": "code",
      "source": [
        "df = df.dropna(how='any')"
      ],
      "metadata": {
        "id": "fV17wWc8OqtV"
      },
      "execution_count": 213,
      "outputs": []
    },
    {
      "cell_type": "code",
      "source": [
        "df.shape"
      ],
      "metadata": {
        "colab": {
          "base_uri": "https://localhost:8080/"
        },
        "id": "_d2JOdhuOzzT",
        "outputId": "18559db9-5f1c-4b28-aec1-99a027845a1f"
      },
      "execution_count": 214,
      "outputs": [
        {
          "output_type": "execute_result",
          "data": {
            "text/plain": [
              "(124689, 5)"
            ]
          },
          "metadata": {},
          "execution_count": 214
        }
      ]
    },
    {
      "cell_type": "code",
      "source": [
        "sns.countplot(df.RainTomorrow);"
      ],
      "metadata": {
        "colab": {
          "base_uri": "https://localhost:8080/",
          "height": 334
        },
        "id": "XYRN2bvKO8vS",
        "outputId": "cc2d7c38-59cc-488c-996b-86db59412f53"
      },
      "execution_count": 215,
      "outputs": [
        {
          "output_type": "stream",
          "name": "stderr",
          "text": [
            "/usr/local/lib/python3.7/dist-packages/seaborn/_decorators.py:43: FutureWarning: Pass the following variable as a keyword arg: x. From version 0.12, the only valid positional argument will be `data`, and passing other arguments without an explicit keyword will result in an error or misinterpretation.\n",
            "  FutureWarning\n"
          ]
        },
        {
          "output_type": "display_data",
          "data": {
            "text/plain": [
              "<Figure size 432x288 with 1 Axes>"
            ],
            "image/png": "[encoded data removed]"
          },
          "metadata": {
            "needs_background": "light"
          }
        }
      ]
    },
    {
      "cell_type": "code",
      "source": [
        "df.shape[0]"
      ],
      "metadata": {
        "colab": {
          "base_uri": "https://localhost:8080/"
        },
        "id": "QUdFwjpyPYZC",
        "outputId": "5c04ff5f-0af5-414a-dcf2-326c9ac3f1e2"
      },
      "execution_count": 216,
      "outputs": [
        {
          "output_type": "execute_result",
          "data": {
            "text/plain": [
              "124689"
            ]
          },
          "metadata": {},
          "execution_count": 216
        }
      ]
    },
    {
      "cell_type": "code",
      "source": [
        "df.RainTomorrow.value_counts()/ df.shape[0] *100"
      ],
      "metadata": {
        "colab": {
          "base_uri": "https://localhost:8080/"
        },
        "id": "kbabFj3vPE8v",
        "outputId": "7a6974cb-8f77-4ca4-a522-57fd89afe621"
      },
      "execution_count": 217,
      "outputs": [
        {
          "output_type": "execute_result",
          "data": {
            "text/plain": [
              "0.0    77.876156\n",
              "1.0    22.123844\n",
              "Name: RainTomorrow, dtype: float64"
            ]
          },
          "metadata": {},
          "execution_count": 217
        }
      ]
    },
    {
      "cell_type": "code",
      "source": [
        "df.shape[0]"
      ],
      "metadata": {
        "colab": {
          "base_uri": "https://localhost:8080/"
        },
        "id": "hmIpmwW1PSeS",
        "outputId": "b74c7398-4bb1-4cb0-e30d-6494928a8528"
      },
      "execution_count": 218,
      "outputs": [
        {
          "output_type": "execute_result",
          "data": {
            "text/plain": [
              "124689"
            ]
          },
          "metadata": {},
          "execution_count": 218
        }
      ]
    },
    {
      "cell_type": "code",
      "source": [
        "X = df[['Rainfall', 'Humidity3pm', 'RainToday', 'Pressure9am']]\n",
        "y = df[['RainTomorrow']]"
      ],
      "metadata": {
        "id": "YVfiJpzxSdcX"
      },
      "execution_count": 219,
      "outputs": []
    },
    {
      "cell_type": "code",
      "source": [
        "X_train, X_test, y_train, y_test = train_test_split(X, y, test_size =0.2, random_state= RANDOM_SEED)"
      ],
      "metadata": {
        "id": "siwIxScgPUnb"
      },
      "execution_count": 220,
      "outputs": []
    },
    {
      "cell_type": "code",
      "source": [
        "#Convert to Tensor\n",
        "X_train = torch.from_numpy(X_train.to_numpy()).float()\n",
        "y_train = torch.squeeze(torch.from_numpy(y_train.to_numpy()).float())"
      ],
      "metadata": {
        "id": "WJkK4QSYSuQQ"
      },
      "execution_count": 221,
      "outputs": []
    },
    {
      "cell_type": "code",
      "source": [
        "#Convert to Tensor\n",
        "X_test = torch.from_numpy(X_test.to_numpy()).float()\n",
        "y_test = torch.squeeze(torch.from_numpy(y_test.to_numpy()).float())"
      ],
      "metadata": {
        "id": "uUV8_rG5TH1Y"
      },
      "execution_count": 222,
      "outputs": []
    },
    {
      "cell_type": "code",
      "source": [
        "print(X_train.shape, y_train.shape)\n",
        "print(X_test.shape, y_test.shape)"
      ],
      "metadata": {
        "colab": {
          "base_uri": "https://localhost:8080/"
        },
        "id": "3fshMNdITXfn",
        "outputId": "e382643d-4619-4393-865e-9380898db3af"
      },
      "execution_count": 223,
      "outputs": [
        {
          "output_type": "stream",
          "name": "stdout",
          "text": [
            "torch.Size([99751, 4]) torch.Size([99751])\n",
            "torch.Size([24938, 4]) torch.Size([24938])\n"
          ]
        }
      ]
    },
    {
      "cell_type": "code",
      "source": [
        "class Net(nn.Module):\n",
        "  def __init__(self, n_features):\n",
        "    super().__init__()\n",
        "    self.fc1 = nn.Linear(n_features, 5)\n",
        "    self.fc2 = nn.Linear(5, 3)\n",
        "    self.fc3 = nn.Linear(3, 1)\n",
        "\n",
        "  def forward(self, x):\n",
        "    x = F.relu(self.fc1(x))\n",
        "    x = F.relu(self.fc2(x))\n",
        "    return torch.sigmoid(self.fc3(x))"
      ],
      "metadata": {
        "id": "IvGEb8VOTfEb"
      },
      "execution_count": 224,
      "outputs": []
    },
    {
      "cell_type": "code",
      "source": [
        "net = Net(X_train.shape[1])\n",
        "net.state_dict()"
      ],
      "metadata": {
        "colab": {
          "base_uri": "https://localhost:8080/"
        },
        "id": "5vBEoGK-Vqik",
        "outputId": "f6e24c11-d5a2-491c-bb87-d6af49bacd66"
      },
      "execution_count": 225,
      "outputs": [
        {
          "output_type": "execute_result",
          "data": {
            "text/plain": [
              "OrderedDict([('fc1.weight', tensor([[ 0.3823,  0.4150, -0.1171,  0.4593],\n",
              "                      [-0.1096,  0.1009, -0.2434,  0.2936],\n",
              "                      [ 0.4408, -0.3668,  0.4346,  0.0936],\n",
              "                      [ 0.3694,  0.0677,  0.2411, -0.0706],\n",
              "                      [ 0.3854,  0.0739, -0.2334,  0.1274]])),\n",
              "             ('fc1.bias',\n",
              "              tensor([-0.2304, -0.0586, -0.2031,  0.3317, -0.3947])),\n",
              "             ('fc2.weight',\n",
              "              tensor([[-0.2062, -0.1263, -0.2689,  0.0422, -0.4417],\n",
              "                      [ 0.4039, -0.3799,  0.3453,  0.0744, -0.1452],\n",
              "                      [ 0.2764,  0.0697,  0.3613,  0.0489, -0.1410]])),\n",
              "             ('fc2.bias', tensor([ 0.1202, -0.1213,  0.1882])),\n",
              "             ('fc3.weight', tensor([[ 0.5155,  0.3337, -0.2524]])),\n",
              "             ('fc3.bias', tensor([0.3333]))])"
            ]
          },
          "metadata": {},
          "execution_count": 225
        }
      ]
    },
    {
      "cell_type": "code",
      "source": [
        "criterion = nn.BCELoss()\n",
        "optimizer = optim.Adam(net.parameters(), lr = 0.001)"
      ],
      "metadata": {
        "id": "Rlu9QP8FhoKy"
      },
      "execution_count": 226,
      "outputs": []
    },
    {
      "cell_type": "code",
      "source": [
        "device = torch.device('cuda:0' if torch.cuda.is_available() else 'cpu')"
      ],
      "metadata": {
        "id": "9b8eO9ShV5tn"
      },
      "execution_count": 227,
      "outputs": []
    },
    {
      "cell_type": "code",
      "source": [
        "X_train = X_train.to(device)\n",
        "y_train = y_train.to(device)\n",
        "\n",
        "\n",
        "X_test = X_test.to(device)\n",
        "y_test = y_test.to(device)\n",
        "\n"
      ],
      "metadata": {
        "id": "WAjqgbr5pMId"
      },
      "execution_count": 228,
      "outputs": []
    },
    {
      "cell_type": "code",
      "source": [
        "net = net.to(device)\n",
        "criterion = criterion.to(device)"
      ],
      "metadata": {
        "id": "WKhBe6u7pNHG"
      },
      "execution_count": 229,
      "outputs": []
    },
    {
      "cell_type": "code",
      "source": [],
      "metadata": {
        "id": "aCYmweTMrbs1"
      },
      "execution_count": 229,
      "outputs": []
    },
    {
      "cell_type": "code",
      "source": [
        "for epoch in range(1000):\n",
        "  y_pred = net(X_train)\n",
        "\n",
        "  y_pred = torch.squeeze(y_pred)\n",
        "  train_loss = criterion(y_pred, y_train)\n",
        "  optimizer.zero_grad()\n",
        "  train_loss.backward()\n",
        "  optimizer.step()\n",
        "  if epoch % 100 == 0: \n",
        "\n",
        "     print(f' {epoch} - Loss: {train_loss.item()} ')"
      ],
      "metadata": {
        "colab": {
          "base_uri": "https://localhost:8080/"
        },
        "id": "Wca2c7o1ptMq",
        "outputId": "84e6466b-270b-4979-939f-062d19597ac2"
      },
      "execution_count": 230,
      "outputs": [
        {
          "output_type": "stream",
          "name": "stdout",
          "text": [
            " 0 - Loss: 2.512702465057373 \n",
            " 100 - Loss: 0.4570438861846924 \n",
            " 200 - Loss: 0.43474313616752625 \n",
            " 300 - Loss: 0.420562744140625 \n",
            " 400 - Loss: 0.4123978614807129 \n",
            " 500 - Loss: 0.40799230337142944 \n",
            " 600 - Loss: 0.4057587683200836 \n",
            " 700 - Loss: 0.40467944741249084 \n",
            " 800 - Loss: 0.4041593372821808 \n",
            " 900 - Loss: 0.4038848876953125 \n"
          ]
        }
      ]
    },
    {
      "cell_type": "code",
      "source": [
        "y_pred = torch.round(y_pred)"
      ],
      "metadata": {
        "id": "pDLA-0G7vHv0"
      },
      "execution_count": 231,
      "outputs": []
    },
    {
      "cell_type": "code",
      "source": [
        "classes = ['No rain', 'Raining']\n",
        "\n",
        "y_pred = net(X_test)\n",
        "\n",
        "y_pred = y_pred.ge(.5).view(-1).cpu()\n",
        "y_test = y_test.cpu()\n",
        "\n",
        "print(classification_report(y_test, y_pred, target_names=classes))"
      ],
      "metadata": {
        "colab": {
          "base_uri": "https://localhost:8080/"
        },
        "id": "iuzYRaA_tzux",
        "outputId": "a0e59670-b9b4-4586-cf4a-8ce875ae1cf7"
      },
      "execution_count": 232,
      "outputs": [
        {
          "output_type": "stream",
          "name": "stdout",
          "text": [
            "              precision    recall  f1-score   support\n",
            "\n",
            "     No rain       0.85      0.96      0.90     19413\n",
            "     Raining       0.74      0.40      0.52      5525\n",
            "\n",
            "    accuracy                           0.84     24938\n",
            "   macro avg       0.80      0.68      0.71     24938\n",
            "weighted avg       0.83      0.84      0.82     24938\n",
            "\n"
          ]
        }
      ]
    },
    {
      "cell_type": "code",
      "source": [],
      "metadata": {
        "id": "j97KLLSgycq4"
      },
      "execution_count": 232,
      "outputs": []
    }
  ]
}
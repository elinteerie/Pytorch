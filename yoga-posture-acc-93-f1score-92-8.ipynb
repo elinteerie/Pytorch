{
 "cells": [
  {
   "cell_type": "code",
   "execution_count": 1,
   "id": "325c61b0",
   "metadata": {
    "_cell_guid": "b1076dfc-b9ad-4769-8c92-a6c4dae69d19",
    "_uuid": "8f2839f25d086af736a60e9eeb907d3b93b6e0e5",
    "execution": {
     "iopub.execute_input": "2022-09-05T15:29:10.917815Z",
     "iopub.status.busy": "2022-09-05T15:29:10.916969Z",
     "iopub.status.idle": "2022-09-05T15:29:11.301065Z",
     "shell.execute_reply": "2022-09-05T15:29:11.300100Z"
    },
    "papermill": {
     "duration": 0.396899,
     "end_time": "2022-09-05T15:29:11.303515",
     "exception": false,
     "start_time": "2022-09-05T15:29:10.906616",
     "status": "completed"
    },
    "tags": []
   },
   "outputs": [],
   "source": [
    "# This Python 3 environment comes with many helpful analytics libraries installed\n",
    "# It is defined by the kaggle/python Docker image: https://github.com/kaggle/docker-python\n",
    "# For example, here's several helpful packages to load\n",
    "\n",
    "import numpy as np # linear algebra\n",
    "import pandas as pd # data processing, CSV file I/O (e.g. pd.read_csv)\n",
    "\n",
    "# Input data files are available in the read-only \"../input/\" directory\n",
    "# For example, running this (by clicking run or pressing Shift+Enter) will list all files under the input directory\n",
    "\n",
    "import os\n",
    "for dirname, _, filenames in os.walk('/kaggle/input'):\n",
    "    for filename in filenames:\n",
    "        pass\n",
    "        #print(os.path.join(dirname, filename))\n",
    "\n",
    "# You can write up to 20GB to the current directory (/kaggle/working/) that gets preserved as output when you create a version using \"Save & Run All\" \n",
    "# You can also write temporary files to /kaggle/temp/, but they won't be saved outside of the current session"
   ]
  },
  {
   "cell_type": "markdown",
   "id": "86bab5fb",
   "metadata": {
    "papermill": {
     "duration": 0.007093,
     "end_time": "2022-09-05T15:29:11.318213",
     "exception": false,
     "start_time": "2022-09-05T15:29:11.311120",
     "status": "completed"
    },
    "tags": []
   },
   "source": [
    "#### Import Dependencies, Framework and Libaries\n",
    "#### Get Image Datum\n",
    "#### Implement input Pipelines and transformations\n",
    "#### Build Model\n",
    "#### Model Evaluation Metrics, Loss and Optimzers\n",
    "#### Train Model\n",
    "#### Evaluate\n",
    "#### Conclusion"
   ]
  },
  {
   "cell_type": "markdown",
   "id": "da91436d",
   "metadata": {
    "papermill": {
     "duration": 0.0069,
     "end_time": "2022-09-05T15:29:11.332678",
     "exception": false,
     "start_time": "2022-09-05T15:29:11.325778",
     "status": "completed"
    },
    "tags": []
   },
   "source": [
    "### Import Dependencies, Framework and Libaries\n"
   ]
  },
  {
   "cell_type": "code",
   "execution_count": 2,
   "id": "43bcc44c",
   "metadata": {
    "execution": {
     "iopub.execute_input": "2022-09-05T15:29:11.348763Z",
     "iopub.status.busy": "2022-09-05T15:29:11.347914Z",
     "iopub.status.idle": "2022-09-05T15:29:24.371418Z",
     "shell.execute_reply": "2022-09-05T15:29:24.370351Z"
    },
    "papermill": {
     "duration": 13.033915,
     "end_time": "2022-09-05T15:29:24.373776",
     "exception": false,
     "start_time": "2022-09-05T15:29:11.339861",
     "status": "completed"
    },
    "tags": []
   },
   "outputs": [
    {
     "name": "stdout",
     "output_type": "stream",
     "text": [
      "Requirement already satisfied: torchmetrics in /opt/conda/lib/python3.7/site-packages (0.9.3)\r\n",
      "Requirement already satisfied: torch>=1.3.1 in /opt/conda/lib/python3.7/site-packages (from torchmetrics) (1.11.0)\r\n",
      "Requirement already satisfied: typing-extensions in /opt/conda/lib/python3.7/site-packages (from torchmetrics) (4.3.0)\r\n",
      "Requirement already satisfied: numpy>=1.17.2 in /opt/conda/lib/python3.7/site-packages (from torchmetrics) (1.21.6)\r\n",
      "Requirement already satisfied: packaging in /opt/conda/lib/python3.7/site-packages (from torchmetrics) (21.3)\r\n",
      "Requirement already satisfied: pyparsing!=3.0.5,>=2.0.2 in /opt/conda/lib/python3.7/site-packages (from packaging->torchmetrics) (3.0.9)\r\n",
      "\u001b[33mWARNING: Running pip as the 'root' user can result in broken permissions and conflicting behaviour with the system package manager. It is recommended to use a virtual environment instead: https://pip.pypa.io/warnings/venv\u001b[0m\u001b[33m\r\n",
      "\u001b[0m"
     ]
    }
   ],
   "source": [
    "#Import Libaries\n",
    "import torch\n",
    "import torchvision\n",
    "import matplotlib.pyplot as plt\n",
    "from torchvision import datasets\n",
    "from torch.utils.data import Dataset, DataLoader\n",
    "!pip install torchmetrics\n",
    "from torchmetrics import Accuracy, Precision, F1Score\n",
    "from pathlib import Path\n",
    "from torch import optim\n",
    "import torch.nn as nn"
   ]
  },
  {
   "cell_type": "code",
   "execution_count": 3,
   "id": "e864a458",
   "metadata": {
    "execution": {
     "iopub.execute_input": "2022-09-05T15:29:24.390918Z",
     "iopub.status.busy": "2022-09-05T15:29:24.390242Z",
     "iopub.status.idle": "2022-09-05T15:29:24.455924Z",
     "shell.execute_reply": "2022-09-05T15:29:24.455023Z"
    },
    "papermill": {
     "duration": 0.076256,
     "end_time": "2022-09-05T15:29:24.457907",
     "exception": false,
     "start_time": "2022-09-05T15:29:24.381651",
     "status": "completed"
    },
    "tags": []
   },
   "outputs": [],
   "source": [
    "#Set up device agnostic code\n",
    "device = 'cuda' if torch.cuda.is_available() else 'cpu'"
   ]
  },
  {
   "cell_type": "code",
   "execution_count": 4,
   "id": "ef7b8e25",
   "metadata": {
    "execution": {
     "iopub.execute_input": "2022-09-05T15:29:24.475297Z",
     "iopub.status.busy": "2022-09-05T15:29:24.475008Z",
     "iopub.status.idle": "2022-09-05T15:29:24.479623Z",
     "shell.execute_reply": "2022-09-05T15:29:24.478661Z"
    },
    "papermill": {
     "duration": 0.014751,
     "end_time": "2022-09-05T15:29:24.481604",
     "exception": false,
     "start_time": "2022-09-05T15:29:24.466853",
     "status": "completed"
    },
    "tags": []
   },
   "outputs": [],
   "source": [
    "dir_path = Path('../input/yoga-posture-dataset')"
   ]
  },
  {
   "cell_type": "code",
   "execution_count": 5,
   "id": "e1ac2f77",
   "metadata": {
    "execution": {
     "iopub.execute_input": "2022-09-05T15:29:24.498024Z",
     "iopub.status.busy": "2022-09-05T15:29:24.497159Z",
     "iopub.status.idle": "2022-09-05T15:29:24.502516Z",
     "shell.execute_reply": "2022-09-05T15:29:24.501690Z"
    },
    "papermill": {
     "duration": 0.015414,
     "end_time": "2022-09-05T15:29:24.504469",
     "exception": false,
     "start_time": "2022-09-05T15:29:24.489055",
     "status": "completed"
    },
    "tags": []
   },
   "outputs": [],
   "source": [
    "##Transform Data for Trust Sake\n",
    "from torchvision import transforms\n",
    "transformer = torchvision.transforms.Compose([\n",
    "    transforms.Resize(size = (224, 224)),\n",
    "    transforms.ToTensor(),\n",
    "])"
   ]
  },
  {
   "cell_type": "code",
   "execution_count": 6,
   "id": "1d9595b5",
   "metadata": {
    "execution": {
     "iopub.execute_input": "2022-09-05T15:29:24.520728Z",
     "iopub.status.busy": "2022-09-05T15:29:24.520460Z",
     "iopub.status.idle": "2022-09-05T15:29:24.583478Z",
     "shell.execute_reply": "2022-09-05T15:29:24.582532Z"
    },
    "papermill": {
     "duration": 0.07325,
     "end_time": "2022-09-05T15:29:24.585518",
     "exception": false,
     "start_time": "2022-09-05T15:29:24.512268",
     "status": "completed"
    },
    "tags": []
   },
   "outputs": [
    {
     "data": {
      "text/plain": [
       "2756"
      ]
     },
     "execution_count": 6,
     "metadata": {},
     "output_type": "execute_result"
    }
   ],
   "source": [
    "##Load Image to Dataset \n",
    "datafolder = torchvision.datasets.ImageFolder(dir_path, transform = transformer)\n",
    "len(datafolder)"
   ]
  },
  {
   "cell_type": "code",
   "execution_count": 7,
   "id": "0edc5362",
   "metadata": {
    "execution": {
     "iopub.execute_input": "2022-09-05T15:29:24.603227Z",
     "iopub.status.busy": "2022-09-05T15:29:24.602637Z",
     "iopub.status.idle": "2022-09-05T15:29:24.609759Z",
     "shell.execute_reply": "2022-09-05T15:29:24.608790Z"
    },
    "papermill": {
     "duration": 0.018169,
     "end_time": "2022-09-05T15:29:24.611741",
     "exception": false,
     "start_time": "2022-09-05T15:29:24.593572",
     "status": "completed"
    },
    "tags": []
   },
   "outputs": [],
   "source": [
    "#Split Dataset\n",
    "import torch.utils.data as data\n",
    "\n",
    "# Random split\n",
    "train_set_size = int(len(datafolder) * 0.8)\n",
    "valid_set_size = len(datafolder) - train_set_size\n",
    "train_set, valid_set = data.random_split(datafolder, [train_set_size, valid_set_size])"
   ]
  },
  {
   "cell_type": "code",
   "execution_count": 8,
   "id": "c0cf9f10",
   "metadata": {
    "execution": {
     "iopub.execute_input": "2022-09-05T15:29:24.628127Z",
     "iopub.status.busy": "2022-09-05T15:29:24.627577Z",
     "iopub.status.idle": "2022-09-05T15:29:24.633477Z",
     "shell.execute_reply": "2022-09-05T15:29:24.632573Z"
    },
    "papermill": {
     "duration": 0.016158,
     "end_time": "2022-09-05T15:29:24.635373",
     "exception": false,
     "start_time": "2022-09-05T15:29:24.619215",
     "status": "completed"
    },
    "tags": []
   },
   "outputs": [
    {
     "data": {
      "text/plain": [
       "(2204, 552)"
      ]
     },
     "execution_count": 8,
     "metadata": {},
     "output_type": "execute_result"
    }
   ],
   "source": [
    "#length of data\n",
    "len(train_set), len(valid_set)"
   ]
  },
  {
   "cell_type": "code",
   "execution_count": 9,
   "id": "e7fefddd",
   "metadata": {
    "execution": {
     "iopub.execute_input": "2022-09-05T15:29:24.652243Z",
     "iopub.status.busy": "2022-09-05T15:29:24.651630Z",
     "iopub.status.idle": "2022-09-05T15:29:24.659108Z",
     "shell.execute_reply": "2022-09-05T15:29:24.658170Z"
    },
    "papermill": {
     "duration": 0.01766,
     "end_time": "2022-09-05T15:29:24.661103",
     "exception": false,
     "start_time": "2022-09-05T15:29:24.643443",
     "status": "completed"
    },
    "tags": []
   },
   "outputs": [
    {
     "data": {
      "text/plain": [
       "(47,\n",
       " ['Adho Mukha Svanasana',\n",
       "  'Adho Mukha Vrksasana',\n",
       "  'Alanasana',\n",
       "  'Anjaneyasana',\n",
       "  'Ardha Chandrasana',\n",
       "  'Ardha Matsyendrasana',\n",
       "  'Ardha Navasana',\n",
       "  'Ardha Pincha Mayurasana',\n",
       "  'Ashta Chandrasana',\n",
       "  'Baddha Konasana',\n",
       "  'Bakasana',\n",
       "  'Balasana',\n",
       "  'Bitilasana',\n",
       "  'Camatkarasana',\n",
       "  'Dhanurasana',\n",
       "  'Eka Pada Rajakapotasana',\n",
       "  'Garudasana',\n",
       "  'Halasana',\n",
       "  'Hanumanasana',\n",
       "  'Malasana',\n",
       "  'Marjaryasana',\n",
       "  'Navasana',\n",
       "  'Padmasana',\n",
       "  'Parsva Virabhadrasana',\n",
       "  'Parsvottanasana',\n",
       "  'Paschimottanasana',\n",
       "  'Phalakasana',\n",
       "  'Pincha Mayurasana',\n",
       "  'Salamba Bhujangasana',\n",
       "  'Salamba Sarvangasana',\n",
       "  'Setu Bandha Sarvangasana',\n",
       "  'Sivasana',\n",
       "  'Supta Kapotasana',\n",
       "  'Trikonasana',\n",
       "  'Upavistha Konasana',\n",
       "  'Urdhva Dhanurasana',\n",
       "  'Urdhva Mukha Svsnssana',\n",
       "  'Ustrasana',\n",
       "  'Utkatasana',\n",
       "  'Uttanasana',\n",
       "  'Utthita Hasta Padangusthasana',\n",
       "  'Utthita Parsvakonasana',\n",
       "  'Vasisthasana',\n",
       "  'Virabhadrasana One',\n",
       "  'Virabhadrasana Three',\n",
       "  'Virabhadrasana Two',\n",
       "  'Vrksasana'])"
      ]
     },
     "execution_count": 9,
     "metadata": {},
     "output_type": "execute_result"
    }
   ],
   "source": [
    "classes = datafolder.classes\n",
    "classes_len = len(classes)\n",
    "classes_len, classes\n"
   ]
  },
  {
   "cell_type": "code",
   "execution_count": 10,
   "id": "5193e2dc",
   "metadata": {
    "execution": {
     "iopub.execute_input": "2022-09-05T15:29:24.678583Z",
     "iopub.status.busy": "2022-09-05T15:29:24.677720Z",
     "iopub.status.idle": "2022-09-05T15:29:24.701535Z",
     "shell.execute_reply": "2022-09-05T15:29:24.700583Z"
    },
    "papermill": {
     "duration": 0.034606,
     "end_time": "2022-09-05T15:29:24.703680",
     "exception": false,
     "start_time": "2022-09-05T15:29:24.669074",
     "status": "completed"
    },
    "tags": []
   },
   "outputs": [],
   "source": [
    "# Load a Sample\n",
    "img, label = train_set[0]"
   ]
  },
  {
   "cell_type": "code",
   "execution_count": 11,
   "id": "3852346f",
   "metadata": {
    "execution": {
     "iopub.execute_input": "2022-09-05T15:29:24.721044Z",
     "iopub.status.busy": "2022-09-05T15:29:24.720215Z",
     "iopub.status.idle": "2022-09-05T15:29:24.726408Z",
     "shell.execute_reply": "2022-09-05T15:29:24.725443Z"
    },
    "papermill": {
     "duration": 0.016903,
     "end_time": "2022-09-05T15:29:24.728339",
     "exception": false,
     "start_time": "2022-09-05T15:29:24.711436",
     "status": "completed"
    },
    "tags": []
   },
   "outputs": [
    {
     "data": {
      "text/plain": [
       "(torch.Size([3, 224, 224]), 40)"
      ]
     },
     "execution_count": 11,
     "metadata": {},
     "output_type": "execute_result"
    }
   ],
   "source": [
    "# Sample Details\n",
    "img.shape, label"
   ]
  },
  {
   "cell_type": "code",
   "execution_count": 12,
   "id": "89207de1",
   "metadata": {
    "execution": {
     "iopub.execute_input": "2022-09-05T15:29:24.745593Z",
     "iopub.status.busy": "2022-09-05T15:29:24.745333Z",
     "iopub.status.idle": "2022-09-05T15:29:25.135160Z",
     "shell.execute_reply": "2022-09-05T15:29:25.134004Z"
    },
    "papermill": {
     "duration": 0.401385,
     "end_time": "2022-09-05T15:29:25.137734",
     "exception": false,
     "start_time": "2022-09-05T15:29:24.736349",
     "status": "completed"
    },
    "tags": []
   },
   "outputs": [
    {
     "name": "stdout",
     "output_type": "stream",
     "text": [
      "torch.Size([3, 224, 224])\n"
     ]
    },
    {
     "data": {
      "image/png": "[encoded data removed]",
      "text/plain": [
       "<Figure size 432x288 with 1 Axes>"
      ]
     },
     "metadata": {
      "needs_background": "light"
     },
     "output_type": "display_data"
    }
   ],
   "source": [
    "#View Sample Image\n",
    "import matplotlib.pyplot as plt\n",
    "img_sample = img.permute(2, 1, 0)\n",
    "print(img.shape)\n",
    "plt.imshow(img_sample)\n",
    "plt.title(classes[label]);"
   ]
  },
  {
   "cell_type": "markdown",
   "id": "17569a35",
   "metadata": {
    "papermill": {
     "duration": 0.013977,
     "end_time": "2022-09-05T15:29:25.167092",
     "exception": false,
     "start_time": "2022-09-05T15:29:25.153115",
     "status": "completed"
    },
    "tags": []
   },
   "source": [
    "#### Get Model\n"
   ]
  },
  {
   "cell_type": "code",
   "execution_count": 13,
   "id": "063393ad",
   "metadata": {
    "execution": {
     "iopub.execute_input": "2022-09-05T15:29:25.196773Z",
     "iopub.status.busy": "2022-09-05T15:29:25.196366Z",
     "iopub.status.idle": "2022-09-05T15:29:25.202265Z",
     "shell.execute_reply": "2022-09-05T15:29:25.201173Z"
    },
    "papermill": {
     "duration": 0.026802,
     "end_time": "2022-09-05T15:29:25.208064",
     "exception": false,
     "start_time": "2022-09-05T15:29:25.181262",
     "status": "completed"
    },
    "tags": []
   },
   "outputs": [],
   "source": [
    "import torchvision\n",
    "from torchvision import models\n",
    "import torchvision.models.efficientnet as e\n",
    "import torchvision.models.resnet as r"
   ]
  },
  {
   "cell_type": "code",
   "execution_count": 14,
   "id": "944b41e3",
   "metadata": {
    "execution": {
     "iopub.execute_input": "2022-09-05T15:29:25.237697Z",
     "iopub.status.busy": "2022-09-05T15:29:25.237365Z",
     "iopub.status.idle": "2022-09-05T15:29:40.969513Z",
     "shell.execute_reply": "2022-09-05T15:29:40.968560Z"
    },
    "papermill": {
     "duration": 15.750216,
     "end_time": "2022-09-05T15:29:40.972115",
     "exception": false,
     "start_time": "2022-09-05T15:29:25.221899",
     "status": "completed"
    },
    "tags": []
   },
   "outputs": [
    {
     "name": "stderr",
     "output_type": "stream",
     "text": [
      "Downloading: \"https://download.pytorch.org/models/resnet50-0676ba61.pth\" to /root/.cache/torch/hub/checkpoints/resnet50-0676ba61.pth\n"
     ]
    },
    {
     "data": {
      "application/vnd.jupyter.widget-view+json": {
       "model_id": "b9411fadd47a4fc4ab2d05687c0e4369",
       "version_major": 2,
       "version_minor": 0
      },
      "text/plain": [
       "  0%|          | 0.00/97.8M [00:00<?, ?B/s]"
      ]
     },
     "metadata": {},
     "output_type": "display_data"
    },
    {
     "name": "stderr",
     "output_type": "stream",
     "text": [
      "Downloading: \"https://download.pytorch.org/models/efficientnet_b0_rwightman-3dd342df.pth\" to /root/.cache/torch/hub/checkpoints/efficientnet_b0_rwightman-3dd342df.pth\n"
     ]
    },
    {
     "data": {
      "application/vnd.jupyter.widget-view+json": {
       "model_id": "933ea2411d7445ffa688d9a6814dd329",
       "version_major": 2,
       "version_minor": 0
      },
      "text/plain": [
       "  0%|          | 0.00/20.5M [00:00<?, ?B/s]"
      ]
     },
     "metadata": {},
     "output_type": "display_data"
    }
   ],
   "source": [
    "#Load Weights for Training\n",
    "WEIGHTS = r.resnet50(pretrained= True)\n",
    "WEIGHTS2 = e.efficientnet_b0(pretrained= True)"
   ]
  },
  {
   "cell_type": "code",
   "execution_count": 15,
   "id": "0490956d",
   "metadata": {
    "execution": {
     "iopub.execute_input": "2022-09-05T15:29:40.993880Z",
     "iopub.status.busy": "2022-09-05T15:29:40.993536Z",
     "iopub.status.idle": "2022-09-05T15:29:41.000838Z",
     "shell.execute_reply": "2022-09-05T15:29:40.999960Z"
    },
    "papermill": {
     "duration": 0.020584,
     "end_time": "2022-09-05T15:29:41.002888",
     "exception": false,
     "start_time": "2022-09-05T15:29:40.982304",
     "status": "completed"
    },
    "tags": []
   },
   "outputs": [
    {
     "data": {
      "text/plain": [
       "<bound method Module.state_dict of ResNet(\n",
       "  (conv1): Conv2d(3, 64, kernel_size=(7, 7), stride=(2, 2), padding=(3, 3), bias=False)\n",
       "  (bn1): BatchNorm2d(64, eps=1e-05, momentum=0.1, affine=True, track_running_stats=True)\n",
       "  (relu): ReLU(inplace=True)\n",
       "  (maxpool): MaxPool2d(kernel_size=3, stride=2, padding=1, dilation=1, ceil_mode=False)\n",
       "  (layer1): Sequential(\n",
       "    (0): Bottleneck(\n",
       "      (conv1): Conv2d(64, 64, kernel_size=(1, 1), stride=(1, 1), bias=False)\n",
       "      (bn1): BatchNorm2d(64, eps=1e-05, momentum=0.1, affine=True, track_running_stats=True)\n",
       "      (conv2): Conv2d(64, 64, kernel_size=(3, 3), stride=(1, 1), padding=(1, 1), bias=False)\n",
       "      (bn2): BatchNorm2d(64, eps=1e-05, momentum=0.1, affine=True, track_running_stats=True)\n",
       "      (conv3): Conv2d(64, 256, kernel_size=(1, 1), stride=(1, 1), bias=False)\n",
       "      (bn3): BatchNorm2d(256, eps=1e-05, momentum=0.1, affine=True, track_running_stats=True)\n",
       "      (relu): ReLU(inplace=True)\n",
       "      (downsample): Sequential(\n",
       "        (0): Conv2d(64, 256, kernel_size=(1, 1), stride=(1, 1), bias=False)\n",
       "        (1): BatchNorm2d(256, eps=1e-05, momentum=0.1, affine=True, track_running_stats=True)\n",
       "      )\n",
       "    )\n",
       "    (1): Bottleneck(\n",
       "      (conv1): Conv2d(256, 64, kernel_size=(1, 1), stride=(1, 1), bias=False)\n",
       "      (bn1): BatchNorm2d(64, eps=1e-05, momentum=0.1, affine=True, track_running_stats=True)\n",
       "      (conv2): Conv2d(64, 64, kernel_size=(3, 3), stride=(1, 1), padding=(1, 1), bias=False)\n",
       "      (bn2): BatchNorm2d(64, eps=1e-05, momentum=0.1, affine=True, track_running_stats=True)\n",
       "      (conv3): Conv2d(64, 256, kernel_size=(1, 1), stride=(1, 1), bias=False)\n",
       "      (bn3): BatchNorm2d(256, eps=1e-05, momentum=0.1, affine=True, track_running_stats=True)\n",
       "      (relu): ReLU(inplace=True)\n",
       "    )\n",
       "    (2): Bottleneck(\n",
       "      (conv1): Conv2d(256, 64, kernel_size=(1, 1), stride=(1, 1), bias=False)\n",
       "      (bn1): BatchNorm2d(64, eps=1e-05, momentum=0.1, affine=True, track_running_stats=True)\n",
       "      (conv2): Conv2d(64, 64, kernel_size=(3, 3), stride=(1, 1), padding=(1, 1), bias=False)\n",
       "      (bn2): BatchNorm2d(64, eps=1e-05, momentum=0.1, affine=True, track_running_stats=True)\n",
       "      (conv3): Conv2d(64, 256, kernel_size=(1, 1), stride=(1, 1), bias=False)\n",
       "      (bn3): BatchNorm2d(256, eps=1e-05, momentum=0.1, affine=True, track_running_stats=True)\n",
       "      (relu): ReLU(inplace=True)\n",
       "    )\n",
       "  )\n",
       "  (layer2): Sequential(\n",
       "    (0): Bottleneck(\n",
       "      (conv1): Conv2d(256, 128, kernel_size=(1, 1), stride=(1, 1), bias=False)\n",
       "      (bn1): BatchNorm2d(128, eps=1e-05, momentum=0.1, affine=True, track_running_stats=True)\n",
       "      (conv2): Conv2d(128, 128, kernel_size=(3, 3), stride=(2, 2), padding=(1, 1), bias=False)\n",
       "      (bn2): BatchNorm2d(128, eps=1e-05, momentum=0.1, affine=True, track_running_stats=True)\n",
       "      (conv3): Conv2d(128, 512, kernel_size=(1, 1), stride=(1, 1), bias=False)\n",
       "      (bn3): BatchNorm2d(512, eps=1e-05, momentum=0.1, affine=True, track_running_stats=True)\n",
       "      (relu): ReLU(inplace=True)\n",
       "      (downsample): Sequential(\n",
       "        (0): Conv2d(256, 512, kernel_size=(1, 1), stride=(2, 2), bias=False)\n",
       "        (1): BatchNorm2d(512, eps=1e-05, momentum=0.1, affine=True, track_running_stats=True)\n",
       "      )\n",
       "    )\n",
       "    (1): Bottleneck(\n",
       "      (conv1): Conv2d(512, 128, kernel_size=(1, 1), stride=(1, 1), bias=False)\n",
       "      (bn1): BatchNorm2d(128, eps=1e-05, momentum=0.1, affine=True, track_running_stats=True)\n",
       "      (conv2): Conv2d(128, 128, kernel_size=(3, 3), stride=(1, 1), padding=(1, 1), bias=False)\n",
       "      (bn2): BatchNorm2d(128, eps=1e-05, momentum=0.1, affine=True, track_running_stats=True)\n",
       "      (conv3): Conv2d(128, 512, kernel_size=(1, 1), stride=(1, 1), bias=False)\n",
       "      (bn3): BatchNorm2d(512, eps=1e-05, momentum=0.1, affine=True, track_running_stats=True)\n",
       "      (relu): ReLU(inplace=True)\n",
       "    )\n",
       "    (2): Bottleneck(\n",
       "      (conv1): Conv2d(512, 128, kernel_size=(1, 1), stride=(1, 1), bias=False)\n",
       "      (bn1): BatchNorm2d(128, eps=1e-05, momentum=0.1, affine=True, track_running_stats=True)\n",
       "      (conv2): Conv2d(128, 128, kernel_size=(3, 3), stride=(1, 1), padding=(1, 1), bias=False)\n",
       "      (bn2): BatchNorm2d(128, eps=1e-05, momentum=0.1, affine=True, track_running_stats=True)\n",
       "      (conv3): Conv2d(128, 512, kernel_size=(1, 1), stride=(1, 1), bias=False)\n",
       "      (bn3): BatchNorm2d(512, eps=1e-05, momentum=0.1, affine=True, track_running_stats=True)\n",
       "      (relu): ReLU(inplace=True)\n",
       "    )\n",
       "    (3): Bottleneck(\n",
       "      (conv1): Conv2d(512, 128, kernel_size=(1, 1), stride=(1, 1), bias=False)\n",
       "      (bn1): BatchNorm2d(128, eps=1e-05, momentum=0.1, affine=True, track_running_stats=True)\n",
       "      (conv2): Conv2d(128, 128, kernel_size=(3, 3), stride=(1, 1), padding=(1, 1), bias=False)\n",
       "      (bn2): BatchNorm2d(128, eps=1e-05, momentum=0.1, affine=True, track_running_stats=True)\n",
       "      (conv3): Conv2d(128, 512, kernel_size=(1, 1), stride=(1, 1), bias=False)\n",
       "      (bn3): BatchNorm2d(512, eps=1e-05, momentum=0.1, affine=True, track_running_stats=True)\n",
       "      (relu): ReLU(inplace=True)\n",
       "    )\n",
       "  )\n",
       "  (layer3): Sequential(\n",
       "    (0): Bottleneck(\n",
       "      (conv1): Conv2d(512, 256, kernel_size=(1, 1), stride=(1, 1), bias=False)\n",
       "      (bn1): BatchNorm2d(256, eps=1e-05, momentum=0.1, affine=True, track_running_stats=True)\n",
       "      (conv2): Conv2d(256, 256, kernel_size=(3, 3), stride=(2, 2), padding=(1, 1), bias=False)\n",
       "      (bn2): BatchNorm2d(256, eps=1e-05, momentum=0.1, affine=True, track_running_stats=True)\n",
       "      (conv3): Conv2d(256, 1024, kernel_size=(1, 1), stride=(1, 1), bias=False)\n",
       "      (bn3): BatchNorm2d(1024, eps=1e-05, momentum=0.1, affine=True, track_running_stats=True)\n",
       "      (relu): ReLU(inplace=True)\n",
       "      (downsample): Sequential(\n",
       "        (0): Conv2d(512, 1024, kernel_size=(1, 1), stride=(2, 2), bias=False)\n",
       "        (1): BatchNorm2d(1024, eps=1e-05, momentum=0.1, affine=True, track_running_stats=True)\n",
       "      )\n",
       "    )\n",
       "    (1): Bottleneck(\n",
       "      (conv1): Conv2d(1024, 256, kernel_size=(1, 1), stride=(1, 1), bias=False)\n",
       "      (bn1): BatchNorm2d(256, eps=1e-05, momentum=0.1, affine=True, track_running_stats=True)\n",
       "      (conv2): Conv2d(256, 256, kernel_size=(3, 3), stride=(1, 1), padding=(1, 1), bias=False)\n",
       "      (bn2): BatchNorm2d(256, eps=1e-05, momentum=0.1, affine=True, track_running_stats=True)\n",
       "      (conv3): Conv2d(256, 1024, kernel_size=(1, 1), stride=(1, 1), bias=False)\n",
       "      (bn3): BatchNorm2d(1024, eps=1e-05, momentum=0.1, affine=True, track_running_stats=True)\n",
       "      (relu): ReLU(inplace=True)\n",
       "    )\n",
       "    (2): Bottleneck(\n",
       "      (conv1): Conv2d(1024, 256, kernel_size=(1, 1), stride=(1, 1), bias=False)\n",
       "      (bn1): BatchNorm2d(256, eps=1e-05, momentum=0.1, affine=True, track_running_stats=True)\n",
       "      (conv2): Conv2d(256, 256, kernel_size=(3, 3), stride=(1, 1), padding=(1, 1), bias=False)\n",
       "      (bn2): BatchNorm2d(256, eps=1e-05, momentum=0.1, affine=True, track_running_stats=True)\n",
       "      (conv3): Conv2d(256, 1024, kernel_size=(1, 1), stride=(1, 1), bias=False)\n",
       "      (bn3): BatchNorm2d(1024, eps=1e-05, momentum=0.1, affine=True, track_running_stats=True)\n",
       "      (relu): ReLU(inplace=True)\n",
       "    )\n",
       "    (3): Bottleneck(\n",
       "      (conv1): Conv2d(1024, 256, kernel_size=(1, 1), stride=(1, 1), bias=False)\n",
       "      (bn1): BatchNorm2d(256, eps=1e-05, momentum=0.1, affine=True, track_running_stats=True)\n",
       "      (conv2): Conv2d(256, 256, kernel_size=(3, 3), stride=(1, 1), padding=(1, 1), bias=False)\n",
       "      (bn2): BatchNorm2d(256, eps=1e-05, momentum=0.1, affine=True, track_running_stats=True)\n",
       "      (conv3): Conv2d(256, 1024, kernel_size=(1, 1), stride=(1, 1), bias=False)\n",
       "      (bn3): BatchNorm2d(1024, eps=1e-05, momentum=0.1, affine=True, track_running_stats=True)\n",
       "      (relu): ReLU(inplace=True)\n",
       "    )\n",
       "    (4): Bottleneck(\n",
       "      (conv1): Conv2d(1024, 256, kernel_size=(1, 1), stride=(1, 1), bias=False)\n",
       "      (bn1): BatchNorm2d(256, eps=1e-05, momentum=0.1, affine=True, track_running_stats=True)\n",
       "      (conv2): Conv2d(256, 256, kernel_size=(3, 3), stride=(1, 1), padding=(1, 1), bias=False)\n",
       "      (bn2): BatchNorm2d(256, eps=1e-05, momentum=0.1, affine=True, track_running_stats=True)\n",
       "      (conv3): Conv2d(256, 1024, kernel_size=(1, 1), stride=(1, 1), bias=False)\n",
       "      (bn3): BatchNorm2d(1024, eps=1e-05, momentum=0.1, affine=True, track_running_stats=True)\n",
       "      (relu): ReLU(inplace=True)\n",
       "    )\n",
       "    (5): Bottleneck(\n",
       "      (conv1): Conv2d(1024, 256, kernel_size=(1, 1), stride=(1, 1), bias=False)\n",
       "      (bn1): BatchNorm2d(256, eps=1e-05, momentum=0.1, affine=True, track_running_stats=True)\n",
       "      (conv2): Conv2d(256, 256, kernel_size=(3, 3), stride=(1, 1), padding=(1, 1), bias=False)\n",
       "      (bn2): BatchNorm2d(256, eps=1e-05, momentum=0.1, affine=True, track_running_stats=True)\n",
       "      (conv3): Conv2d(256, 1024, kernel_size=(1, 1), stride=(1, 1), bias=False)\n",
       "      (bn3): BatchNorm2d(1024, eps=1e-05, momentum=0.1, affine=True, track_running_stats=True)\n",
       "      (relu): ReLU(inplace=True)\n",
       "    )\n",
       "  )\n",
       "  (layer4): Sequential(\n",
       "    (0): Bottleneck(\n",
       "      (conv1): Conv2d(1024, 512, kernel_size=(1, 1), stride=(1, 1), bias=False)\n",
       "      (bn1): BatchNorm2d(512, eps=1e-05, momentum=0.1, affine=True, track_running_stats=True)\n",
       "      (conv2): Conv2d(512, 512, kernel_size=(3, 3), stride=(2, 2), padding=(1, 1), bias=False)\n",
       "      (bn2): BatchNorm2d(512, eps=1e-05, momentum=0.1, affine=True, track_running_stats=True)\n",
       "      (conv3): Conv2d(512, 2048, kernel_size=(1, 1), stride=(1, 1), bias=False)\n",
       "      (bn3): BatchNorm2d(2048, eps=1e-05, momentum=0.1, affine=True, track_running_stats=True)\n",
       "      (relu): ReLU(inplace=True)\n",
       "      (downsample): Sequential(\n",
       "        (0): Conv2d(1024, 2048, kernel_size=(1, 1), stride=(2, 2), bias=False)\n",
       "        (1): BatchNorm2d(2048, eps=1e-05, momentum=0.1, affine=True, track_running_stats=True)\n",
       "      )\n",
       "    )\n",
       "    (1): Bottleneck(\n",
       "      (conv1): Conv2d(2048, 512, kernel_size=(1, 1), stride=(1, 1), bias=False)\n",
       "      (bn1): BatchNorm2d(512, eps=1e-05, momentum=0.1, affine=True, track_running_stats=True)\n",
       "      (conv2): Conv2d(512, 512, kernel_size=(3, 3), stride=(1, 1), padding=(1, 1), bias=False)\n",
       "      (bn2): BatchNorm2d(512, eps=1e-05, momentum=0.1, affine=True, track_running_stats=True)\n",
       "      (conv3): Conv2d(512, 2048, kernel_size=(1, 1), stride=(1, 1), bias=False)\n",
       "      (bn3): BatchNorm2d(2048, eps=1e-05, momentum=0.1, affine=True, track_running_stats=True)\n",
       "      (relu): ReLU(inplace=True)\n",
       "    )\n",
       "    (2): Bottleneck(\n",
       "      (conv1): Conv2d(2048, 512, kernel_size=(1, 1), stride=(1, 1), bias=False)\n",
       "      (bn1): BatchNorm2d(512, eps=1e-05, momentum=0.1, affine=True, track_running_stats=True)\n",
       "      (conv2): Conv2d(512, 512, kernel_size=(3, 3), stride=(1, 1), padding=(1, 1), bias=False)\n",
       "      (bn2): BatchNorm2d(512, eps=1e-05, momentum=0.1, affine=True, track_running_stats=True)\n",
       "      (conv3): Conv2d(512, 2048, kernel_size=(1, 1), stride=(1, 1), bias=False)\n",
       "      (bn3): BatchNorm2d(2048, eps=1e-05, momentum=0.1, affine=True, track_running_stats=True)\n",
       "      (relu): ReLU(inplace=True)\n",
       "    )\n",
       "  )\n",
       "  (avgpool): AdaptiveAvgPool2d(output_size=(1, 1))\n",
       "  (fc): Linear(in_features=2048, out_features=1000, bias=True)\n",
       ")>"
      ]
     },
     "execution_count": 15,
     "metadata": {},
     "output_type": "execute_result"
    }
   ],
   "source": [
    "#View Resnet Details\n",
    "WEIGHTS.state_dict"
   ]
  },
  {
   "cell_type": "code",
   "execution_count": 16,
   "id": "339450e0",
   "metadata": {
    "execution": {
     "iopub.execute_input": "2022-09-05T15:29:41.024189Z",
     "iopub.status.busy": "2022-09-05T15:29:41.023175Z",
     "iopub.status.idle": "2022-09-05T15:29:41.028645Z",
     "shell.execute_reply": "2022-09-05T15:29:41.027837Z"
    },
    "papermill": {
     "duration": 0.018215,
     "end_time": "2022-09-05T15:29:41.030760",
     "exception": false,
     "start_time": "2022-09-05T15:29:41.012545",
     "status": "completed"
    },
    "tags": []
   },
   "outputs": [],
   "source": [
    "##Freeze Model Params for Transfer Learning\n",
    "for p in WEIGHTS.parameters():\n",
    "    p.requires_grad = False"
   ]
  },
  {
   "cell_type": "code",
   "execution_count": 17,
   "id": "a96b1e83",
   "metadata": {
    "execution": {
     "iopub.execute_input": "2022-09-05T15:29:41.052299Z",
     "iopub.status.busy": "2022-09-05T15:29:41.051500Z",
     "iopub.status.idle": "2022-09-05T15:29:41.057449Z",
     "shell.execute_reply": "2022-09-05T15:29:41.056628Z"
    },
    "papermill": {
     "duration": 0.018548,
     "end_time": "2022-09-05T15:29:41.059393",
     "exception": false,
     "start_time": "2022-09-05T15:29:41.040845",
     "status": "completed"
    },
    "tags": []
   },
   "outputs": [],
   "source": [
    "WEIGHTS.fc = nn.Linear(2048, classes_len)"
   ]
  },
  {
   "cell_type": "code",
   "execution_count": 18,
   "id": "dbaa18ea",
   "metadata": {
    "execution": {
     "iopub.execute_input": "2022-09-05T15:29:41.080598Z",
     "iopub.status.busy": "2022-09-05T15:29:41.080345Z",
     "iopub.status.idle": "2022-09-05T15:29:41.085716Z",
     "shell.execute_reply": "2022-09-05T15:29:41.084856Z"
    },
    "papermill": {
     "duration": 0.01843,
     "end_time": "2022-09-05T15:29:41.087660",
     "exception": false,
     "start_time": "2022-09-05T15:29:41.069230",
     "status": "completed"
    },
    "tags": []
   },
   "outputs": [
    {
     "data": {
      "text/plain": [
       "Linear(in_features=2048, out_features=47, bias=True)"
      ]
     },
     "execution_count": 18,
     "metadata": {},
     "output_type": "execute_result"
    }
   ],
   "source": [
    "#View Output Predictor\n",
    "WEIGHTS.fc"
   ]
  },
  {
   "cell_type": "code",
   "execution_count": 19,
   "id": "a6bb0fee",
   "metadata": {
    "execution": {
     "iopub.execute_input": "2022-09-05T15:29:41.108754Z",
     "iopub.status.busy": "2022-09-05T15:29:41.107990Z",
     "iopub.status.idle": "2022-09-05T15:29:44.049043Z",
     "shell.execute_reply": "2022-09-05T15:29:44.048067Z"
    },
    "papermill": {
     "duration": 2.955247,
     "end_time": "2022-09-05T15:29:44.052553",
     "exception": false,
     "start_time": "2022-09-05T15:29:41.097306",
     "status": "completed"
    },
    "tags": []
   },
   "outputs": [
    {
     "data": {
      "text/plain": [
       "ResNet(\n",
       "  (conv1): Conv2d(3, 64, kernel_size=(7, 7), stride=(2, 2), padding=(3, 3), bias=False)\n",
       "  (bn1): BatchNorm2d(64, eps=1e-05, momentum=0.1, affine=True, track_running_stats=True)\n",
       "  (relu): ReLU(inplace=True)\n",
       "  (maxpool): MaxPool2d(kernel_size=3, stride=2, padding=1, dilation=1, ceil_mode=False)\n",
       "  (layer1): Sequential(\n",
       "    (0): Bottleneck(\n",
       "      (conv1): Conv2d(64, 64, kernel_size=(1, 1), stride=(1, 1), bias=False)\n",
       "      (bn1): BatchNorm2d(64, eps=1e-05, momentum=0.1, affine=True, track_running_stats=True)\n",
       "      (conv2): Conv2d(64, 64, kernel_size=(3, 3), stride=(1, 1), padding=(1, 1), bias=False)\n",
       "      (bn2): BatchNorm2d(64, eps=1e-05, momentum=0.1, affine=True, track_running_stats=True)\n",
       "      (conv3): Conv2d(64, 256, kernel_size=(1, 1), stride=(1, 1), bias=False)\n",
       "      (bn3): BatchNorm2d(256, eps=1e-05, momentum=0.1, affine=True, track_running_stats=True)\n",
       "      (relu): ReLU(inplace=True)\n",
       "      (downsample): Sequential(\n",
       "        (0): Conv2d(64, 256, kernel_size=(1, 1), stride=(1, 1), bias=False)\n",
       "        (1): BatchNorm2d(256, eps=1e-05, momentum=0.1, affine=True, track_running_stats=True)\n",
       "      )\n",
       "    )\n",
       "    (1): Bottleneck(\n",
       "      (conv1): Conv2d(256, 64, kernel_size=(1, 1), stride=(1, 1), bias=False)\n",
       "      (bn1): BatchNorm2d(64, eps=1e-05, momentum=0.1, affine=True, track_running_stats=True)\n",
       "      (conv2): Conv2d(64, 64, kernel_size=(3, 3), stride=(1, 1), padding=(1, 1), bias=False)\n",
       "      (bn2): BatchNorm2d(64, eps=1e-05, momentum=0.1, affine=True, track_running_stats=True)\n",
       "      (conv3): Conv2d(64, 256, kernel_size=(1, 1), stride=(1, 1), bias=False)\n",
       "      (bn3): BatchNorm2d(256, eps=1e-05, momentum=0.1, affine=True, track_running_stats=True)\n",
       "      (relu): ReLU(inplace=True)\n",
       "    )\n",
       "    (2): Bottleneck(\n",
       "      (conv1): Conv2d(256, 64, kernel_size=(1, 1), stride=(1, 1), bias=False)\n",
       "      (bn1): BatchNorm2d(64, eps=1e-05, momentum=0.1, affine=True, track_running_stats=True)\n",
       "      (conv2): Conv2d(64, 64, kernel_size=(3, 3), stride=(1, 1), padding=(1, 1), bias=False)\n",
       "      (bn2): BatchNorm2d(64, eps=1e-05, momentum=0.1, affine=True, track_running_stats=True)\n",
       "      (conv3): Conv2d(64, 256, kernel_size=(1, 1), stride=(1, 1), bias=False)\n",
       "      (bn3): BatchNorm2d(256, eps=1e-05, momentum=0.1, affine=True, track_running_stats=True)\n",
       "      (relu): ReLU(inplace=True)\n",
       "    )\n",
       "  )\n",
       "  (layer2): Sequential(\n",
       "    (0): Bottleneck(\n",
       "      (conv1): Conv2d(256, 128, kernel_size=(1, 1), stride=(1, 1), bias=False)\n",
       "      (bn1): BatchNorm2d(128, eps=1e-05, momentum=0.1, affine=True, track_running_stats=True)\n",
       "      (conv2): Conv2d(128, 128, kernel_size=(3, 3), stride=(2, 2), padding=(1, 1), bias=False)\n",
       "      (bn2): BatchNorm2d(128, eps=1e-05, momentum=0.1, affine=True, track_running_stats=True)\n",
       "      (conv3): Conv2d(128, 512, kernel_size=(1, 1), stride=(1, 1), bias=False)\n",
       "      (bn3): BatchNorm2d(512, eps=1e-05, momentum=0.1, affine=True, track_running_stats=True)\n",
       "      (relu): ReLU(inplace=True)\n",
       "      (downsample): Sequential(\n",
       "        (0): Conv2d(256, 512, kernel_size=(1, 1), stride=(2, 2), bias=False)\n",
       "        (1): BatchNorm2d(512, eps=1e-05, momentum=0.1, affine=True, track_running_stats=True)\n",
       "      )\n",
       "    )\n",
       "    (1): Bottleneck(\n",
       "      (conv1): Conv2d(512, 128, kernel_size=(1, 1), stride=(1, 1), bias=False)\n",
       "      (bn1): BatchNorm2d(128, eps=1e-05, momentum=0.1, affine=True, track_running_stats=True)\n",
       "      (conv2): Conv2d(128, 128, kernel_size=(3, 3), stride=(1, 1), padding=(1, 1), bias=False)\n",
       "      (bn2): BatchNorm2d(128, eps=1e-05, momentum=0.1, affine=True, track_running_stats=True)\n",
       "      (conv3): Conv2d(128, 512, kernel_size=(1, 1), stride=(1, 1), bias=False)\n",
       "      (bn3): BatchNorm2d(512, eps=1e-05, momentum=0.1, affine=True, track_running_stats=True)\n",
       "      (relu): ReLU(inplace=True)\n",
       "    )\n",
       "    (2): Bottleneck(\n",
       "      (conv1): Conv2d(512, 128, kernel_size=(1, 1), stride=(1, 1), bias=False)\n",
       "      (bn1): BatchNorm2d(128, eps=1e-05, momentum=0.1, affine=True, track_running_stats=True)\n",
       "      (conv2): Conv2d(128, 128, kernel_size=(3, 3), stride=(1, 1), padding=(1, 1), bias=False)\n",
       "      (bn2): BatchNorm2d(128, eps=1e-05, momentum=0.1, affine=True, track_running_stats=True)\n",
       "      (conv3): Conv2d(128, 512, kernel_size=(1, 1), stride=(1, 1), bias=False)\n",
       "      (bn3): BatchNorm2d(512, eps=1e-05, momentum=0.1, affine=True, track_running_stats=True)\n",
       "      (relu): ReLU(inplace=True)\n",
       "    )\n",
       "    (3): Bottleneck(\n",
       "      (conv1): Conv2d(512, 128, kernel_size=(1, 1), stride=(1, 1), bias=False)\n",
       "      (bn1): BatchNorm2d(128, eps=1e-05, momentum=0.1, affine=True, track_running_stats=True)\n",
       "      (conv2): Conv2d(128, 128, kernel_size=(3, 3), stride=(1, 1), padding=(1, 1), bias=False)\n",
       "      (bn2): BatchNorm2d(128, eps=1e-05, momentum=0.1, affine=True, track_running_stats=True)\n",
       "      (conv3): Conv2d(128, 512, kernel_size=(1, 1), stride=(1, 1), bias=False)\n",
       "      (bn3): BatchNorm2d(512, eps=1e-05, momentum=0.1, affine=True, track_running_stats=True)\n",
       "      (relu): ReLU(inplace=True)\n",
       "    )\n",
       "  )\n",
       "  (layer3): Sequential(\n",
       "    (0): Bottleneck(\n",
       "      (conv1): Conv2d(512, 256, kernel_size=(1, 1), stride=(1, 1), bias=False)\n",
       "      (bn1): BatchNorm2d(256, eps=1e-05, momentum=0.1, affine=True, track_running_stats=True)\n",
       "      (conv2): Conv2d(256, 256, kernel_size=(3, 3), stride=(2, 2), padding=(1, 1), bias=False)\n",
       "      (bn2): BatchNorm2d(256, eps=1e-05, momentum=0.1, affine=True, track_running_stats=True)\n",
       "      (conv3): Conv2d(256, 1024, kernel_size=(1, 1), stride=(1, 1), bias=False)\n",
       "      (bn3): BatchNorm2d(1024, eps=1e-05, momentum=0.1, affine=True, track_running_stats=True)\n",
       "      (relu): ReLU(inplace=True)\n",
       "      (downsample): Sequential(\n",
       "        (0): Conv2d(512, 1024, kernel_size=(1, 1), stride=(2, 2), bias=False)\n",
       "        (1): BatchNorm2d(1024, eps=1e-05, momentum=0.1, affine=True, track_running_stats=True)\n",
       "      )\n",
       "    )\n",
       "    (1): Bottleneck(\n",
       "      (conv1): Conv2d(1024, 256, kernel_size=(1, 1), stride=(1, 1), bias=False)\n",
       "      (bn1): BatchNorm2d(256, eps=1e-05, momentum=0.1, affine=True, track_running_stats=True)\n",
       "      (conv2): Conv2d(256, 256, kernel_size=(3, 3), stride=(1, 1), padding=(1, 1), bias=False)\n",
       "      (bn2): BatchNorm2d(256, eps=1e-05, momentum=0.1, affine=True, track_running_stats=True)\n",
       "      (conv3): Conv2d(256, 1024, kernel_size=(1, 1), stride=(1, 1), bias=False)\n",
       "      (bn3): BatchNorm2d(1024, eps=1e-05, momentum=0.1, affine=True, track_running_stats=True)\n",
       "      (relu): ReLU(inplace=True)\n",
       "    )\n",
       "    (2): Bottleneck(\n",
       "      (conv1): Conv2d(1024, 256, kernel_size=(1, 1), stride=(1, 1), bias=False)\n",
       "      (bn1): BatchNorm2d(256, eps=1e-05, momentum=0.1, affine=True, track_running_stats=True)\n",
       "      (conv2): Conv2d(256, 256, kernel_size=(3, 3), stride=(1, 1), padding=(1, 1), bias=False)\n",
       "      (bn2): BatchNorm2d(256, eps=1e-05, momentum=0.1, affine=True, track_running_stats=True)\n",
       "      (conv3): Conv2d(256, 1024, kernel_size=(1, 1), stride=(1, 1), bias=False)\n",
       "      (bn3): BatchNorm2d(1024, eps=1e-05, momentum=0.1, affine=True, track_running_stats=True)\n",
       "      (relu): ReLU(inplace=True)\n",
       "    )\n",
       "    (3): Bottleneck(\n",
       "      (conv1): Conv2d(1024, 256, kernel_size=(1, 1), stride=(1, 1), bias=False)\n",
       "      (bn1): BatchNorm2d(256, eps=1e-05, momentum=0.1, affine=True, track_running_stats=True)\n",
       "      (conv2): Conv2d(256, 256, kernel_size=(3, 3), stride=(1, 1), padding=(1, 1), bias=False)\n",
       "      (bn2): BatchNorm2d(256, eps=1e-05, momentum=0.1, affine=True, track_running_stats=True)\n",
       "      (conv3): Conv2d(256, 1024, kernel_size=(1, 1), stride=(1, 1), bias=False)\n",
       "      (bn3): BatchNorm2d(1024, eps=1e-05, momentum=0.1, affine=True, track_running_stats=True)\n",
       "      (relu): ReLU(inplace=True)\n",
       "    )\n",
       "    (4): Bottleneck(\n",
       "      (conv1): Conv2d(1024, 256, kernel_size=(1, 1), stride=(1, 1), bias=False)\n",
       "      (bn1): BatchNorm2d(256, eps=1e-05, momentum=0.1, affine=True, track_running_stats=True)\n",
       "      (conv2): Conv2d(256, 256, kernel_size=(3, 3), stride=(1, 1), padding=(1, 1), bias=False)\n",
       "      (bn2): BatchNorm2d(256, eps=1e-05, momentum=0.1, affine=True, track_running_stats=True)\n",
       "      (conv3): Conv2d(256, 1024, kernel_size=(1, 1), stride=(1, 1), bias=False)\n",
       "      (bn3): BatchNorm2d(1024, eps=1e-05, momentum=0.1, affine=True, track_running_stats=True)\n",
       "      (relu): ReLU(inplace=True)\n",
       "    )\n",
       "    (5): Bottleneck(\n",
       "      (conv1): Conv2d(1024, 256, kernel_size=(1, 1), stride=(1, 1), bias=False)\n",
       "      (bn1): BatchNorm2d(256, eps=1e-05, momentum=0.1, affine=True, track_running_stats=True)\n",
       "      (conv2): Conv2d(256, 256, kernel_size=(3, 3), stride=(1, 1), padding=(1, 1), bias=False)\n",
       "      (bn2): BatchNorm2d(256, eps=1e-05, momentum=0.1, affine=True, track_running_stats=True)\n",
       "      (conv3): Conv2d(256, 1024, kernel_size=(1, 1), stride=(1, 1), bias=False)\n",
       "      (bn3): BatchNorm2d(1024, eps=1e-05, momentum=0.1, affine=True, track_running_stats=True)\n",
       "      (relu): ReLU(inplace=True)\n",
       "    )\n",
       "  )\n",
       "  (layer4): Sequential(\n",
       "    (0): Bottleneck(\n",
       "      (conv1): Conv2d(1024, 512, kernel_size=(1, 1), stride=(1, 1), bias=False)\n",
       "      (bn1): BatchNorm2d(512, eps=1e-05, momentum=0.1, affine=True, track_running_stats=True)\n",
       "      (conv2): Conv2d(512, 512, kernel_size=(3, 3), stride=(2, 2), padding=(1, 1), bias=False)\n",
       "      (bn2): BatchNorm2d(512, eps=1e-05, momentum=0.1, affine=True, track_running_stats=True)\n",
       "      (conv3): Conv2d(512, 2048, kernel_size=(1, 1), stride=(1, 1), bias=False)\n",
       "      (bn3): BatchNorm2d(2048, eps=1e-05, momentum=0.1, affine=True, track_running_stats=True)\n",
       "      (relu): ReLU(inplace=True)\n",
       "      (downsample): Sequential(\n",
       "        (0): Conv2d(1024, 2048, kernel_size=(1, 1), stride=(2, 2), bias=False)\n",
       "        (1): BatchNorm2d(2048, eps=1e-05, momentum=0.1, affine=True, track_running_stats=True)\n",
       "      )\n",
       "    )\n",
       "    (1): Bottleneck(\n",
       "      (conv1): Conv2d(2048, 512, kernel_size=(1, 1), stride=(1, 1), bias=False)\n",
       "      (bn1): BatchNorm2d(512, eps=1e-05, momentum=0.1, affine=True, track_running_stats=True)\n",
       "      (conv2): Conv2d(512, 512, kernel_size=(3, 3), stride=(1, 1), padding=(1, 1), bias=False)\n",
       "      (bn2): BatchNorm2d(512, eps=1e-05, momentum=0.1, affine=True, track_running_stats=True)\n",
       "      (conv3): Conv2d(512, 2048, kernel_size=(1, 1), stride=(1, 1), bias=False)\n",
       "      (bn3): BatchNorm2d(2048, eps=1e-05, momentum=0.1, affine=True, track_running_stats=True)\n",
       "      (relu): ReLU(inplace=True)\n",
       "    )\n",
       "    (2): Bottleneck(\n",
       "      (conv1): Conv2d(2048, 512, kernel_size=(1, 1), stride=(1, 1), bias=False)\n",
       "      (bn1): BatchNorm2d(512, eps=1e-05, momentum=0.1, affine=True, track_running_stats=True)\n",
       "      (conv2): Conv2d(512, 512, kernel_size=(3, 3), stride=(1, 1), padding=(1, 1), bias=False)\n",
       "      (bn2): BatchNorm2d(512, eps=1e-05, momentum=0.1, affine=True, track_running_stats=True)\n",
       "      (conv3): Conv2d(512, 2048, kernel_size=(1, 1), stride=(1, 1), bias=False)\n",
       "      (bn3): BatchNorm2d(2048, eps=1e-05, momentum=0.1, affine=True, track_running_stats=True)\n",
       "      (relu): ReLU(inplace=True)\n",
       "    )\n",
       "  )\n",
       "  (avgpool): AdaptiveAvgPool2d(output_size=(1, 1))\n",
       "  (fc): Linear(in_features=2048, out_features=47, bias=True)\n",
       ")"
      ]
     },
     "execution_count": 19,
     "metadata": {},
     "output_type": "execute_result"
    }
   ],
   "source": [
    "model = WEIGHTS\n",
    "#Take model to device\n",
    "model.to(device)"
   ]
  },
  {
   "cell_type": "markdown",
   "id": "d98f2cb5",
   "metadata": {
    "papermill": {
     "duration": 0.009933,
     "end_time": "2022-09-05T15:29:44.073438",
     "exception": false,
     "start_time": "2022-09-05T15:29:44.063505",
     "status": "completed"
    },
    "tags": []
   },
   "source": [
    "#### Implement DataLoader"
   ]
  },
  {
   "cell_type": "code",
   "execution_count": 20,
   "id": "f0339858",
   "metadata": {
    "execution": {
     "iopub.execute_input": "2022-09-05T15:29:44.095073Z",
     "iopub.status.busy": "2022-09-05T15:29:44.094722Z",
     "iopub.status.idle": "2022-09-05T15:29:44.099906Z",
     "shell.execute_reply": "2022-09-05T15:29:44.098876Z"
    },
    "papermill": {
     "duration": 0.018437,
     "end_time": "2022-09-05T15:29:44.101922",
     "exception": false,
     "start_time": "2022-09-05T15:29:44.083485",
     "status": "completed"
    },
    "tags": []
   },
   "outputs": [],
   "source": [
    "from torch.utils.data import DataLoader\n",
    "BATCH_SIZE = 32\n",
    "train_loader = DataLoader(dataset =train_set, batch_size =BATCH_SIZE, shuffle = True)\n",
    "test_loader = DataLoader(dataset= valid_set, batch_size = BATCH_SIZE)"
   ]
  },
  {
   "cell_type": "markdown",
   "id": "797fdeec",
   "metadata": {
    "papermill": {
     "duration": 0.00983,
     "end_time": "2022-09-05T15:29:44.121781",
     "exception": false,
     "start_time": "2022-09-05T15:29:44.111951",
     "status": "completed"
    },
    "tags": []
   },
   "source": [
    "### Evaluation Metrics/ Loss Function / Optimizers\n"
   ]
  },
  {
   "cell_type": "code",
   "execution_count": 21,
   "id": "20867a40",
   "metadata": {
    "execution": {
     "iopub.execute_input": "2022-09-05T15:29:44.143188Z",
     "iopub.status.busy": "2022-09-05T15:29:44.142899Z",
     "iopub.status.idle": "2022-09-05T15:29:44.153038Z",
     "shell.execute_reply": "2022-09-05T15:29:44.152179Z"
    },
    "papermill": {
     "duration": 0.023259,
     "end_time": "2022-09-05T15:29:44.155050",
     "exception": false,
     "start_time": "2022-09-05T15:29:44.131791",
     "status": "completed"
    },
    "tags": []
   },
   "outputs": [],
   "source": [
    "# Set up parameters\n",
    "loss_fn = nn.CrossEntropyLoss().to(device)\n",
    "optimizer = optim.Adam(model.parameters(), lr= 0.01)\n",
    "accuracy_fn = Accuracy().to(device)\n",
    "f1 = F1Score().to(device)"
   ]
  },
  {
   "cell_type": "markdown",
   "id": "07576a20",
   "metadata": {
    "papermill": {
     "duration": 0.009894,
     "end_time": "2022-09-05T15:29:44.175118",
     "exception": false,
     "start_time": "2022-09-05T15:29:44.165224",
     "status": "completed"
    },
    "tags": []
   },
   "source": [
    "### Training and Evaluation"
   ]
  },
  {
   "cell_type": "code",
   "execution_count": 22,
   "id": "6a99f1a9",
   "metadata": {
    "execution": {
     "iopub.execute_input": "2022-09-05T15:29:44.196781Z",
     "iopub.status.busy": "2022-09-05T15:29:44.196508Z",
     "iopub.status.idle": "2022-09-05T15:33:50.040527Z",
     "shell.execute_reply": "2022-09-05T15:33:50.039482Z"
    },
    "papermill": {
     "duration": 245.869034,
     "end_time": "2022-09-05T15:33:50.054215",
     "exception": false,
     "start_time": "2022-09-05T15:29:44.185181",
     "status": "completed"
    },
    "tags": []
   },
   "outputs": [
    {
     "name": "stdout",
     "output_type": "stream",
     "text": [
      "3.9147307872772217 | 0.0\n"
     ]
    },
    {
     "name": "stderr",
     "output_type": "stream",
     "text": [
      "/opt/conda/lib/python3.7/site-packages/PIL/Image.py:993: UserWarning: Palette images with Transparency expressed in bytes should be converted to RGBA images\n",
      "  \"Palette images with Transparency expressed in bytes should be \"\n"
     ]
    },
    {
     "name": "stdout",
     "output_type": "stream",
     "text": [
      " Train Loss: 7.6929 | Train Acc: 0.200\n",
      "9.577621459960938 | 0.6370988488197327\n",
      " Train Loss: 1.8970 | Train Acc: 0.573\n",
      "2.856748104095459 | 1.2292773723602295\n",
      " Train Loss: 1.4738 | Train Acc: 0.659\n",
      "3.1654765605926514 | 1.3775465488433838\n",
      " Train Loss: 1.3559 | Train Acc: 0.692\n",
      "2.5638880729675293 | 1.1919364929199219\n",
      " Train Loss: 0.9726 | Train Acc: 0.758\n",
      "1.669601559638977 | 1.6953930854797363\n",
      " Train Loss: 0.9434 | Train Acc: 0.783\n",
      "2.143364667892456 | 1.5017964839935303\n",
      " Train Loss: 0.8859 | Train Acc: 0.805\n",
      "1.4611098766326904 | 1.6804090738296509\n",
      " Train Loss: 0.8935 | Train Acc: 0.813\n",
      "1.6030595302581787 | 1.6566648483276367\n",
      " Train Loss: 0.6560 | Train Acc: 0.843\n",
      "1.5593211650848389 | 1.4994237422943115\n",
      " Train Loss: 0.6192 | Train Acc: 0.860\n",
      " Test Loss 0.2927 | Test Acc: 0.89 | F1Score: 0.8928573727607727  \n"
     ]
    }
   ],
   "source": [
    "EPOCHS = 10\n",
    "\n",
    "train_losses, train_acc = 0, 0\n",
    "\n",
    "for epoch in range(EPOCHS):\n",
    "  for batch, (X, y )in enumerate(train_loader):\n",
    "    X = X.to(device)\n",
    "    y = y.to(device)\n",
    "    model.train()\n",
    "\n",
    "    y_pred =model(X)\n",
    "    loss = loss_fn(y_pred, y)\n",
    "    train_acc += accuracy_fn(y_pred.argmax(dim=1), y)\n",
    "    train_losses += loss\n",
    "    optimizer.zero_grad()\n",
    "    loss.backward()\n",
    "    optimizer.step()\n",
    "    \n",
    "    if batch % 100 == 0:\n",
    "      print(f'{train_losses} | {train_acc}')\n",
    "\n",
    "  train_losses /= len(train_loader)\n",
    "  train_acc /= len(train_loader)\n",
    "  print(f' Train Loss: {train_losses:.4f} | Train Acc: {train_acc:.3f}')\n",
    "\n",
    "model.eval()\n",
    "test_loss, test_acc, test_f1 = 0, 0, 0\n",
    "with torch.inference_mode():\n",
    "    for Xt, yt in test_loader:\n",
    "        Xt = Xt.to(device)\n",
    "        yt= yt.to(device)\n",
    "        test_pred = model(X)\n",
    "        t_loss = loss_fn(test_pred, y)\n",
    "        test_loss += t_loss\n",
    "        test_acc += accuracy_fn(test_pred.argmax(dim=1), y)\n",
    "        test_f1 += f1(test_pred.argmax(dim=1), y)\n",
    "    test_loss /= len(test_loader)\n",
    "    test_acc /= len(test_loader)\n",
    "    test_f1 /= len(test_loader)\n",
    "    \n",
    "    print(f' Test Loss {test_loss:.4f} | Test Acc: {test_acc:.2f} | F1Score: {test_f1}  ')"
   ]
  },
  {
   "cell_type": "markdown",
   "id": "cbf72465",
   "metadata": {
    "papermill": {
     "duration": 0.011095,
     "end_time": "2022-09-05T15:33:50.077531",
     "exception": false,
     "start_time": "2022-09-05T15:33:50.066436",
     "status": "completed"
    },
    "tags": []
   },
   "source": [
    "### Prediction with custom online image\n",
    "link: https://images.everydayhealth.com/images/healthy-living/fitness/yoga-poses-for-beginners-03-722x406.jpg"
   ]
  },
  {
   "cell_type": "code",
   "execution_count": 23,
   "id": "f9912190",
   "metadata": {
    "execution": {
     "iopub.execute_input": "2022-09-05T15:33:50.101657Z",
     "iopub.status.busy": "2022-09-05T15:33:50.101347Z",
     "iopub.status.idle": "2022-09-05T15:33:51.876784Z",
     "shell.execute_reply": "2022-09-05T15:33:51.874621Z"
    },
    "papermill": {
     "duration": 1.792209,
     "end_time": "2022-09-05T15:33:51.880863",
     "exception": false,
     "start_time": "2022-09-05T15:33:50.088654",
     "status": "completed"
    },
    "tags": []
   },
   "outputs": [
    {
     "name": "stdout",
     "output_type": "stream",
     "text": [
      "--2022-09-05 15:33:51--  https://images.everydayhealth.com/images/healthy-living/fitness/yoga-poses-for-beginners-03-722x406.jpg\r\n",
      "Resolving images.everydayhealth.com (images.everydayhealth.com)... 23.212.250.215, 23.212.250.200\r\n",
      "Connecting to images.everydayhealth.com (images.everydayhealth.com)|23.212.250.215|:443... connected.\r\n",
      "HTTP request sent, awaiting response... 200 OK\r\n",
      "Length: 28867 (28K) [image/jpeg]\r\n",
      "Saving to: ‘yoga-poses-for-beginners-03-722x406.jpg’\r\n",
      "\r\n",
      "yoga-poses-for-begi 100%[===================>]  28.19K  --.-KB/s    in 0.08s   \r\n",
      "\r\n",
      "2022-09-05 15:33:51 (338 KB/s) - ‘yoga-poses-for-beginners-03-722x406.jpg’ saved [28867/28867]\r\n",
      "\r\n"
     ]
    }
   ],
   "source": [
    "!wget 'https://images.everydayhealth.com/images/healthy-living/fitness/yoga-poses-for-beginners-03-722x406.jpg'"
   ]
  },
  {
   "cell_type": "code",
   "execution_count": 24,
   "id": "d0dbb82f",
   "metadata": {
    "execution": {
     "iopub.execute_input": "2022-09-05T15:33:51.909780Z",
     "iopub.status.busy": "2022-09-05T15:33:51.909448Z",
     "iopub.status.idle": "2022-09-05T15:33:51.987512Z",
     "shell.execute_reply": "2022-09-05T15:33:51.986659Z"
    },
    "papermill": {
     "duration": 0.095122,
     "end_time": "2022-09-05T15:33:51.991503",
     "exception": false,
     "start_time": "2022-09-05T15:33:51.896381",
     "status": "completed"
    },
    "tags": []
   },
   "outputs": [
    {
     "data": {
      "image/png": "[encoded data removed]",
      "text/plain": [
       "<PIL.JpegImagePlugin.JpegImageFile image mode=RGB size=722x406>"
      ]
     },
     "execution_count": 24,
     "metadata": {},
     "output_type": "execute_result"
    }
   ],
   "source": [
    "load_path = './yoga-poses-for-beginners-03-722x406.jpg'\n",
    "from PIL import Image\n",
    "img = Image.open(load_path)\n",
    "img"
   ]
  },
  {
   "cell_type": "code",
   "execution_count": 25,
   "id": "0f6f9327",
   "metadata": {
    "execution": {
     "iopub.execute_input": "2022-09-05T15:33:52.026299Z",
     "iopub.status.busy": "2022-09-05T15:33:52.025645Z",
     "iopub.status.idle": "2022-09-05T15:33:52.034819Z",
     "shell.execute_reply": "2022-09-05T15:33:52.033932Z"
    },
    "papermill": {
     "duration": 0.028847,
     "end_time": "2022-09-05T15:33:52.036940",
     "exception": false,
     "start_time": "2022-09-05T15:33:52.008093",
     "status": "completed"
    },
    "tags": []
   },
   "outputs": [],
   "source": [
    "transformed_img = transformer(img)"
   ]
  },
  {
   "cell_type": "code",
   "execution_count": 26,
   "id": "170ea2f5",
   "metadata": {
    "execution": {
     "iopub.execute_input": "2022-09-05T15:33:52.069927Z",
     "iopub.status.busy": "2022-09-05T15:33:52.069611Z",
     "iopub.status.idle": "2022-09-05T15:33:52.076892Z",
     "shell.execute_reply": "2022-09-05T15:33:52.074929Z"
    },
    "papermill": {
     "duration": 0.025715,
     "end_time": "2022-09-05T15:33:52.078775",
     "exception": false,
     "start_time": "2022-09-05T15:33:52.053060",
     "status": "completed"
    },
    "tags": []
   },
   "outputs": [
    {
     "data": {
      "text/plain": [
       "torch.Size([1, 3, 224, 224])"
      ]
     },
     "execution_count": 26,
     "metadata": {},
     "output_type": "execute_result"
    }
   ],
   "source": [
    "transformed_img = transformed_img.unsqueeze(dim=0)\n",
    "transformed_img.shape"
   ]
  },
  {
   "cell_type": "code",
   "execution_count": 27,
   "id": "d8156cad",
   "metadata": {
    "execution": {
     "iopub.execute_input": "2022-09-05T15:33:52.111900Z",
     "iopub.status.busy": "2022-09-05T15:33:52.110417Z",
     "iopub.status.idle": "2022-09-05T15:33:52.121871Z",
     "shell.execute_reply": "2022-09-05T15:33:52.121043Z"
    },
    "papermill": {
     "duration": 0.029922,
     "end_time": "2022-09-05T15:33:52.123892",
     "exception": false,
     "start_time": "2022-09-05T15:33:52.093970",
     "status": "completed"
    },
    "tags": []
   },
   "outputs": [
    {
     "data": {
      "text/plain": [
       "ResNet(\n",
       "  (conv1): Conv2d(3, 64, kernel_size=(7, 7), stride=(2, 2), padding=(3, 3), bias=False)\n",
       "  (bn1): BatchNorm2d(64, eps=1e-05, momentum=0.1, affine=True, track_running_stats=True)\n",
       "  (relu): ReLU(inplace=True)\n",
       "  (maxpool): MaxPool2d(kernel_size=3, stride=2, padding=1, dilation=1, ceil_mode=False)\n",
       "  (layer1): Sequential(\n",
       "    (0): Bottleneck(\n",
       "      (conv1): Conv2d(64, 64, kernel_size=(1, 1), stride=(1, 1), bias=False)\n",
       "      (bn1): BatchNorm2d(64, eps=1e-05, momentum=0.1, affine=True, track_running_stats=True)\n",
       "      (conv2): Conv2d(64, 64, kernel_size=(3, 3), stride=(1, 1), padding=(1, 1), bias=False)\n",
       "      (bn2): BatchNorm2d(64, eps=1e-05, momentum=0.1, affine=True, track_running_stats=True)\n",
       "      (conv3): Conv2d(64, 256, kernel_size=(1, 1), stride=(1, 1), bias=False)\n",
       "      (bn3): BatchNorm2d(256, eps=1e-05, momentum=0.1, affine=True, track_running_stats=True)\n",
       "      (relu): ReLU(inplace=True)\n",
       "      (downsample): Sequential(\n",
       "        (0): Conv2d(64, 256, kernel_size=(1, 1), stride=(1, 1), bias=False)\n",
       "        (1): BatchNorm2d(256, eps=1e-05, momentum=0.1, affine=True, track_running_stats=True)\n",
       "      )\n",
       "    )\n",
       "    (1): Bottleneck(\n",
       "      (conv1): Conv2d(256, 64, kernel_size=(1, 1), stride=(1, 1), bias=False)\n",
       "      (bn1): BatchNorm2d(64, eps=1e-05, momentum=0.1, affine=True, track_running_stats=True)\n",
       "      (conv2): Conv2d(64, 64, kernel_size=(3, 3), stride=(1, 1), padding=(1, 1), bias=False)\n",
       "      (bn2): BatchNorm2d(64, eps=1e-05, momentum=0.1, affine=True, track_running_stats=True)\n",
       "      (conv3): Conv2d(64, 256, kernel_size=(1, 1), stride=(1, 1), bias=False)\n",
       "      (bn3): BatchNorm2d(256, eps=1e-05, momentum=0.1, affine=True, track_running_stats=True)\n",
       "      (relu): ReLU(inplace=True)\n",
       "    )\n",
       "    (2): Bottleneck(\n",
       "      (conv1): Conv2d(256, 64, kernel_size=(1, 1), stride=(1, 1), bias=False)\n",
       "      (bn1): BatchNorm2d(64, eps=1e-05, momentum=0.1, affine=True, track_running_stats=True)\n",
       "      (conv2): Conv2d(64, 64, kernel_size=(3, 3), stride=(1, 1), padding=(1, 1), bias=False)\n",
       "      (bn2): BatchNorm2d(64, eps=1e-05, momentum=0.1, affine=True, track_running_stats=True)\n",
       "      (conv3): Conv2d(64, 256, kernel_size=(1, 1), stride=(1, 1), bias=False)\n",
       "      (bn3): BatchNorm2d(256, eps=1e-05, momentum=0.1, affine=True, track_running_stats=True)\n",
       "      (relu): ReLU(inplace=True)\n",
       "    )\n",
       "  )\n",
       "  (layer2): Sequential(\n",
       "    (0): Bottleneck(\n",
       "      (conv1): Conv2d(256, 128, kernel_size=(1, 1), stride=(1, 1), bias=False)\n",
       "      (bn1): BatchNorm2d(128, eps=1e-05, momentum=0.1, affine=True, track_running_stats=True)\n",
       "      (conv2): Conv2d(128, 128, kernel_size=(3, 3), stride=(2, 2), padding=(1, 1), bias=False)\n",
       "      (bn2): BatchNorm2d(128, eps=1e-05, momentum=0.1, affine=True, track_running_stats=True)\n",
       "      (conv3): Conv2d(128, 512, kernel_size=(1, 1), stride=(1, 1), bias=False)\n",
       "      (bn3): BatchNorm2d(512, eps=1e-05, momentum=0.1, affine=True, track_running_stats=True)\n",
       "      (relu): ReLU(inplace=True)\n",
       "      (downsample): Sequential(\n",
       "        (0): Conv2d(256, 512, kernel_size=(1, 1), stride=(2, 2), bias=False)\n",
       "        (1): BatchNorm2d(512, eps=1e-05, momentum=0.1, affine=True, track_running_stats=True)\n",
       "      )\n",
       "    )\n",
       "    (1): Bottleneck(\n",
       "      (conv1): Conv2d(512, 128, kernel_size=(1, 1), stride=(1, 1), bias=False)\n",
       "      (bn1): BatchNorm2d(128, eps=1e-05, momentum=0.1, affine=True, track_running_stats=True)\n",
       "      (conv2): Conv2d(128, 128, kernel_size=(3, 3), stride=(1, 1), padding=(1, 1), bias=False)\n",
       "      (bn2): BatchNorm2d(128, eps=1e-05, momentum=0.1, affine=True, track_running_stats=True)\n",
       "      (conv3): Conv2d(128, 512, kernel_size=(1, 1), stride=(1, 1), bias=False)\n",
       "      (bn3): BatchNorm2d(512, eps=1e-05, momentum=0.1, affine=True, track_running_stats=True)\n",
       "      (relu): ReLU(inplace=True)\n",
       "    )\n",
       "    (2): Bottleneck(\n",
       "      (conv1): Conv2d(512, 128, kernel_size=(1, 1), stride=(1, 1), bias=False)\n",
       "      (bn1): BatchNorm2d(128, eps=1e-05, momentum=0.1, affine=True, track_running_stats=True)\n",
       "      (conv2): Conv2d(128, 128, kernel_size=(3, 3), stride=(1, 1), padding=(1, 1), bias=False)\n",
       "      (bn2): BatchNorm2d(128, eps=1e-05, momentum=0.1, affine=True, track_running_stats=True)\n",
       "      (conv3): Conv2d(128, 512, kernel_size=(1, 1), stride=(1, 1), bias=False)\n",
       "      (bn3): BatchNorm2d(512, eps=1e-05, momentum=0.1, affine=True, track_running_stats=True)\n",
       "      (relu): ReLU(inplace=True)\n",
       "    )\n",
       "    (3): Bottleneck(\n",
       "      (conv1): Conv2d(512, 128, kernel_size=(1, 1), stride=(1, 1), bias=False)\n",
       "      (bn1): BatchNorm2d(128, eps=1e-05, momentum=0.1, affine=True, track_running_stats=True)\n",
       "      (conv2): Conv2d(128, 128, kernel_size=(3, 3), stride=(1, 1), padding=(1, 1), bias=False)\n",
       "      (bn2): BatchNorm2d(128, eps=1e-05, momentum=0.1, affine=True, track_running_stats=True)\n",
       "      (conv3): Conv2d(128, 512, kernel_size=(1, 1), stride=(1, 1), bias=False)\n",
       "      (bn3): BatchNorm2d(512, eps=1e-05, momentum=0.1, affine=True, track_running_stats=True)\n",
       "      (relu): ReLU(inplace=True)\n",
       "    )\n",
       "  )\n",
       "  (layer3): Sequential(\n",
       "    (0): Bottleneck(\n",
       "      (conv1): Conv2d(512, 256, kernel_size=(1, 1), stride=(1, 1), bias=False)\n",
       "      (bn1): BatchNorm2d(256, eps=1e-05, momentum=0.1, affine=True, track_running_stats=True)\n",
       "      (conv2): Conv2d(256, 256, kernel_size=(3, 3), stride=(2, 2), padding=(1, 1), bias=False)\n",
       "      (bn2): BatchNorm2d(256, eps=1e-05, momentum=0.1, affine=True, track_running_stats=True)\n",
       "      (conv3): Conv2d(256, 1024, kernel_size=(1, 1), stride=(1, 1), bias=False)\n",
       "      (bn3): BatchNorm2d(1024, eps=1e-05, momentum=0.1, affine=True, track_running_stats=True)\n",
       "      (relu): ReLU(inplace=True)\n",
       "      (downsample): Sequential(\n",
       "        (0): Conv2d(512, 1024, kernel_size=(1, 1), stride=(2, 2), bias=False)\n",
       "        (1): BatchNorm2d(1024, eps=1e-05, momentum=0.1, affine=True, track_running_stats=True)\n",
       "      )\n",
       "    )\n",
       "    (1): Bottleneck(\n",
       "      (conv1): Conv2d(1024, 256, kernel_size=(1, 1), stride=(1, 1), bias=False)\n",
       "      (bn1): BatchNorm2d(256, eps=1e-05, momentum=0.1, affine=True, track_running_stats=True)\n",
       "      (conv2): Conv2d(256, 256, kernel_size=(3, 3), stride=(1, 1), padding=(1, 1), bias=False)\n",
       "      (bn2): BatchNorm2d(256, eps=1e-05, momentum=0.1, affine=True, track_running_stats=True)\n",
       "      (conv3): Conv2d(256, 1024, kernel_size=(1, 1), stride=(1, 1), bias=False)\n",
       "      (bn3): BatchNorm2d(1024, eps=1e-05, momentum=0.1, affine=True, track_running_stats=True)\n",
       "      (relu): ReLU(inplace=True)\n",
       "    )\n",
       "    (2): Bottleneck(\n",
       "      (conv1): Conv2d(1024, 256, kernel_size=(1, 1), stride=(1, 1), bias=False)\n",
       "      (bn1): BatchNorm2d(256, eps=1e-05, momentum=0.1, affine=True, track_running_stats=True)\n",
       "      (conv2): Conv2d(256, 256, kernel_size=(3, 3), stride=(1, 1), padding=(1, 1), bias=False)\n",
       "      (bn2): BatchNorm2d(256, eps=1e-05, momentum=0.1, affine=True, track_running_stats=True)\n",
       "      (conv3): Conv2d(256, 1024, kernel_size=(1, 1), stride=(1, 1), bias=False)\n",
       "      (bn3): BatchNorm2d(1024, eps=1e-05, momentum=0.1, affine=True, track_running_stats=True)\n",
       "      (relu): ReLU(inplace=True)\n",
       "    )\n",
       "    (3): Bottleneck(\n",
       "      (conv1): Conv2d(1024, 256, kernel_size=(1, 1), stride=(1, 1), bias=False)\n",
       "      (bn1): BatchNorm2d(256, eps=1e-05, momentum=0.1, affine=True, track_running_stats=True)\n",
       "      (conv2): Conv2d(256, 256, kernel_size=(3, 3), stride=(1, 1), padding=(1, 1), bias=False)\n",
       "      (bn2): BatchNorm2d(256, eps=1e-05, momentum=0.1, affine=True, track_running_stats=True)\n",
       "      (conv3): Conv2d(256, 1024, kernel_size=(1, 1), stride=(1, 1), bias=False)\n",
       "      (bn3): BatchNorm2d(1024, eps=1e-05, momentum=0.1, affine=True, track_running_stats=True)\n",
       "      (relu): ReLU(inplace=True)\n",
       "    )\n",
       "    (4): Bottleneck(\n",
       "      (conv1): Conv2d(1024, 256, kernel_size=(1, 1), stride=(1, 1), bias=False)\n",
       "      (bn1): BatchNorm2d(256, eps=1e-05, momentum=0.1, affine=True, track_running_stats=True)\n",
       "      (conv2): Conv2d(256, 256, kernel_size=(3, 3), stride=(1, 1), padding=(1, 1), bias=False)\n",
       "      (bn2): BatchNorm2d(256, eps=1e-05, momentum=0.1, affine=True, track_running_stats=True)\n",
       "      (conv3): Conv2d(256, 1024, kernel_size=(1, 1), stride=(1, 1), bias=False)\n",
       "      (bn3): BatchNorm2d(1024, eps=1e-05, momentum=0.1, affine=True, track_running_stats=True)\n",
       "      (relu): ReLU(inplace=True)\n",
       "    )\n",
       "    (5): Bottleneck(\n",
       "      (conv1): Conv2d(1024, 256, kernel_size=(1, 1), stride=(1, 1), bias=False)\n",
       "      (bn1): BatchNorm2d(256, eps=1e-05, momentum=0.1, affine=True, track_running_stats=True)\n",
       "      (conv2): Conv2d(256, 256, kernel_size=(3, 3), stride=(1, 1), padding=(1, 1), bias=False)\n",
       "      (bn2): BatchNorm2d(256, eps=1e-05, momentum=0.1, affine=True, track_running_stats=True)\n",
       "      (conv3): Conv2d(256, 1024, kernel_size=(1, 1), stride=(1, 1), bias=False)\n",
       "      (bn3): BatchNorm2d(1024, eps=1e-05, momentum=0.1, affine=True, track_running_stats=True)\n",
       "      (relu): ReLU(inplace=True)\n",
       "    )\n",
       "  )\n",
       "  (layer4): Sequential(\n",
       "    (0): Bottleneck(\n",
       "      (conv1): Conv2d(1024, 512, kernel_size=(1, 1), stride=(1, 1), bias=False)\n",
       "      (bn1): BatchNorm2d(512, eps=1e-05, momentum=0.1, affine=True, track_running_stats=True)\n",
       "      (conv2): Conv2d(512, 512, kernel_size=(3, 3), stride=(2, 2), padding=(1, 1), bias=False)\n",
       "      (bn2): BatchNorm2d(512, eps=1e-05, momentum=0.1, affine=True, track_running_stats=True)\n",
       "      (conv3): Conv2d(512, 2048, kernel_size=(1, 1), stride=(1, 1), bias=False)\n",
       "      (bn3): BatchNorm2d(2048, eps=1e-05, momentum=0.1, affine=True, track_running_stats=True)\n",
       "      (relu): ReLU(inplace=True)\n",
       "      (downsample): Sequential(\n",
       "        (0): Conv2d(1024, 2048, kernel_size=(1, 1), stride=(2, 2), bias=False)\n",
       "        (1): BatchNorm2d(2048, eps=1e-05, momentum=0.1, affine=True, track_running_stats=True)\n",
       "      )\n",
       "    )\n",
       "    (1): Bottleneck(\n",
       "      (conv1): Conv2d(2048, 512, kernel_size=(1, 1), stride=(1, 1), bias=False)\n",
       "      (bn1): BatchNorm2d(512, eps=1e-05, momentum=0.1, affine=True, track_running_stats=True)\n",
       "      (conv2): Conv2d(512, 512, kernel_size=(3, 3), stride=(1, 1), padding=(1, 1), bias=False)\n",
       "      (bn2): BatchNorm2d(512, eps=1e-05, momentum=0.1, affine=True, track_running_stats=True)\n",
       "      (conv3): Conv2d(512, 2048, kernel_size=(1, 1), stride=(1, 1), bias=False)\n",
       "      (bn3): BatchNorm2d(2048, eps=1e-05, momentum=0.1, affine=True, track_running_stats=True)\n",
       "      (relu): ReLU(inplace=True)\n",
       "    )\n",
       "    (2): Bottleneck(\n",
       "      (conv1): Conv2d(2048, 512, kernel_size=(1, 1), stride=(1, 1), bias=False)\n",
       "      (bn1): BatchNorm2d(512, eps=1e-05, momentum=0.1, affine=True, track_running_stats=True)\n",
       "      (conv2): Conv2d(512, 512, kernel_size=(3, 3), stride=(1, 1), padding=(1, 1), bias=False)\n",
       "      (bn2): BatchNorm2d(512, eps=1e-05, momentum=0.1, affine=True, track_running_stats=True)\n",
       "      (conv3): Conv2d(512, 2048, kernel_size=(1, 1), stride=(1, 1), bias=False)\n",
       "      (bn3): BatchNorm2d(2048, eps=1e-05, momentum=0.1, affine=True, track_running_stats=True)\n",
       "      (relu): ReLU(inplace=True)\n",
       "    )\n",
       "  )\n",
       "  (avgpool): AdaptiveAvgPool2d(output_size=(1, 1))\n",
       "  (fc): Linear(in_features=2048, out_features=47, bias=True)\n",
       ")"
      ]
     },
     "execution_count": 27,
     "metadata": {},
     "output_type": "execute_result"
    }
   ],
   "source": [
    "transformed_img.to(device)\n",
    "model.to(device)"
   ]
  },
  {
   "cell_type": "code",
   "execution_count": 28,
   "id": "876c5c2d",
   "metadata": {
    "execution": {
     "iopub.execute_input": "2022-09-05T15:33:52.157339Z",
     "iopub.status.busy": "2022-09-05T15:33:52.156535Z",
     "iopub.status.idle": "2022-09-05T15:33:52.161563Z",
     "shell.execute_reply": "2022-09-05T15:33:52.160724Z"
    },
    "papermill": {
     "duration": 0.023827,
     "end_time": "2022-09-05T15:33:52.163543",
     "exception": false,
     "start_time": "2022-09-05T15:33:52.139716",
     "status": "completed"
    },
    "tags": []
   },
   "outputs": [],
   "source": [
    "transformed_img = transformed_img.to(device)"
   ]
  },
  {
   "cell_type": "code",
   "execution_count": 29,
   "id": "8c75d1d8",
   "metadata": {
    "execution": {
     "iopub.execute_input": "2022-09-05T15:33:52.196426Z",
     "iopub.status.busy": "2022-09-05T15:33:52.196156Z",
     "iopub.status.idle": "2022-09-05T15:33:52.203108Z",
     "shell.execute_reply": "2022-09-05T15:33:52.202082Z"
    },
    "papermill": {
     "duration": 0.025883,
     "end_time": "2022-09-05T15:33:52.205107",
     "exception": false,
     "start_time": "2022-09-05T15:33:52.179224",
     "status": "completed"
    },
    "tags": []
   },
   "outputs": [
    {
     "data": {
      "text/plain": [
       "device(type='cuda', index=0)"
      ]
     },
     "execution_count": 29,
     "metadata": {},
     "output_type": "execute_result"
    }
   ],
   "source": [
    "transformed_img.device"
   ]
  },
  {
   "cell_type": "code",
   "execution_count": 30,
   "id": "8cc0edfa",
   "metadata": {
    "execution": {
     "iopub.execute_input": "2022-09-05T15:33:52.239370Z",
     "iopub.status.busy": "2022-09-05T15:33:52.239067Z",
     "iopub.status.idle": "2022-09-05T15:33:52.259883Z",
     "shell.execute_reply": "2022-09-05T15:33:52.258952Z"
    },
    "papermill": {
     "duration": 0.041093,
     "end_time": "2022-09-05T15:33:52.262014",
     "exception": false,
     "start_time": "2022-09-05T15:33:52.220921",
     "status": "completed"
    },
    "tags": []
   },
   "outputs": [],
   "source": [
    "with torch.inference_mode():\n",
    "    transformed_img.to(device)\n",
    "    output = model(transformed_img)"
   ]
  },
  {
   "cell_type": "code",
   "execution_count": 31,
   "id": "bac69c47",
   "metadata": {
    "execution": {
     "iopub.execute_input": "2022-09-05T15:33:52.295901Z",
     "iopub.status.busy": "2022-09-05T15:33:52.295111Z",
     "iopub.status.idle": "2022-09-05T15:33:52.300210Z",
     "shell.execute_reply": "2022-09-05T15:33:52.299339Z"
    },
    "papermill": {
     "duration": 0.023912,
     "end_time": "2022-09-05T15:33:52.302163",
     "exception": false,
     "start_time": "2022-09-05T15:33:52.278251",
     "status": "completed"
    },
    "tags": []
   },
   "outputs": [],
   "source": [
    "outputp = torch.argmax(output).detach()\n",
    "outputp =outputp.item()"
   ]
  },
  {
   "cell_type": "code",
   "execution_count": 32,
   "id": "5f583d0a",
   "metadata": {
    "execution": {
     "iopub.execute_input": "2022-09-05T15:33:52.337036Z",
     "iopub.status.busy": "2022-09-05T15:33:52.335401Z",
     "iopub.status.idle": "2022-09-05T15:33:52.341231Z",
     "shell.execute_reply": "2022-09-05T15:33:52.340251Z"
    },
    "papermill": {
     "duration": 0.025173,
     "end_time": "2022-09-05T15:33:52.343740",
     "exception": false,
     "start_time": "2022-09-05T15:33:52.318567",
     "status": "completed"
    },
    "tags": []
   },
   "outputs": [
    {
     "name": "stdout",
     "output_type": "stream",
     "text": [
      "Predicted Class is: Bitilasana \n"
     ]
    }
   ],
   "source": [
    "Predicted_class = classes[outputp]\n",
    "print(f'Predicted Class is: {Predicted_class} ')"
   ]
  },
  {
   "cell_type": "code",
   "execution_count": null,
   "id": "a3c18835",
   "metadata": {
    "papermill": {
     "duration": 0.015565,
     "end_time": "2022-09-05T15:33:52.375730",
     "exception": false,
     "start_time": "2022-09-05T15:33:52.360165",
     "status": "completed"
    },
    "tags": []
   },
   "outputs": [],
   "source": []
  }
 ],
 "metadata": {
  "kernelspec": {
   "display_name": "Python 3",
   "language": "python",
   "name": "python3"
  },
  "language_info": {
   "codemirror_mode": {
    "name": "ipython",
    "version": 3
   },
   "file_extension": ".py",
   "mimetype": "text/x-python",
   "name": "python",
   "nbconvert_exporter": "python",
   "pygments_lexer": "ipython3",
   "version": "3.7.12"
  },
  "papermill": {
   "default_parameters": {},
   "duration": 290.989567,
   "end_time": "2022-09-05T15:33:54.015943",
   "environment_variables": {},
   "exception": null,
   "input_path": "__notebook__.ipynb",
   "output_path": "__notebook__.ipynb",
   "parameters": {},
   "start_time": "2022-09-05T15:29:03.026376",
   "version": "2.3.4"
  },
  "widgets": {
   "application/vnd.jupyter.widget-state+json": {
    "state": {
     "17a3f0f83c96487d90984f138f7094fc": {
      "model_module": "@jupyter-widgets/base",
      "model_module_version": "1.2.0",
      "model_name": "LayoutModel",
      "state": {
       "_model_module": "@jupyter-widgets/base",
       "_model_module_version": "1.2.0",
       "_model_name": "LayoutModel",
       "_view_count": null,
       "_view_module": "@jupyter-widgets/base",
       "_view_module_version": "1.2.0",
       "_view_name": "LayoutView",
       "align_content": null,
       "align_items": null,
       "align_self": null,
       "border": null,
       "bottom": null,
       "display": null,
       "flex": null,
       "flex_flow": null,
       "grid_area": null,
       "grid_auto_columns": null,
       "grid_auto_flow": null,
       "grid_auto_rows": null,
       "grid_column": null,
       "grid_gap": null,
       "grid_row": null,
       "grid_template_areas": null,
       "grid_template_columns": null,
       "grid_template_rows": null,
       "height": null,
       "justify_content": null,
       "justify_items": null,
       "left": null,
       "margin": null,
       "max_height": null,
       "max_width": null,
       "min_height": null,
       "min_width": null,
       "object_fit": null,
       "object_position": null,
       "order": null,
       "overflow": null,
       "overflow_x": null,
       "overflow_y": null,
       "padding": null,
       "right": null,
       "top": null,
       "visibility": null,
       "width": null
      }
     },
     "1e09233f7b2b462d8f1f997e94419f8d": {
      "model_module": "@jupyter-widgets/controls",
      "model_module_version": "1.5.0",
      "model_name": "ProgressStyleModel",
      "state": {
       "_model_module": "@jupyter-widgets/controls",
       "_model_module_version": "1.5.0",
       "_model_name": "ProgressStyleModel",
       "_view_count": null,
       "_view_module": "@jupyter-widgets/base",
       "_view_module_version": "1.2.0",
       "_view_name": "StyleView",
       "bar_color": null,
       "description_width": ""
      }
     },
     "2c12a3d3bae34fb393ef5a534b820d3f": {
      "model_module": "@jupyter-widgets/controls",
      "model_module_version": "1.5.0",
      "model_name": "FloatProgressModel",
      "state": {
       "_dom_classes": [],
       "_model_module": "@jupyter-widgets/controls",
       "_model_module_version": "1.5.0",
       "_model_name": "FloatProgressModel",
       "_view_count": null,
       "_view_module": "@jupyter-widgets/controls",
       "_view_module_version": "1.5.0",
       "_view_name": "ProgressView",
       "bar_style": "success",
       "description": "",
       "description_tooltip": null,
       "layout": "IPY_MODEL_981d51c7bfb24ad6afab803b6d8873c7",
       "max": 21444401.0,
       "min": 0.0,
       "orientation": "horizontal",
       "style": "IPY_MODEL_5d9a2bde8edc4a9d935069154e5f5a16",
       "value": 21444401.0
      }
     },
     "518cd10ddb5947d389915f5dc27c5743": {
      "model_module": "@jupyter-widgets/base",
      "model_module_version": "1.2.0",
      "model_name": "LayoutModel",
      "state": {
       "_model_module": "@jupyter-widgets/base",
       "_model_module_version": "1.2.0",
       "_model_name": "LayoutModel",
       "_view_count": null,
       "_view_module": "@jupyter-widgets/base",
       "_view_module_version": "1.2.0",
       "_view_name": "LayoutView",
       "align_content": null,
       "align_items": null,
       "align_self": null,
       "border": null,
       "bottom": null,
       "display": null,
       "flex": null,
       "flex_flow": null,
       "grid_area": null,
       "grid_auto_columns": null,
       "grid_auto_flow": null,
       "grid_auto_rows": null,
       "grid_column": null,
       "grid_gap": null,
       "grid_row": null,
       "grid_template_areas": null,
       "grid_template_columns": null,
       "grid_template_rows": null,
       "height": null,
       "justify_content": null,
       "justify_items": null,
       "left": null,
       "margin": null,
       "max_height": null,
       "max_width": null,
       "min_height": null,
       "min_width": null,
       "object_fit": null,
       "object_position": null,
       "order": null,
       "overflow": null,
       "overflow_x": null,
       "overflow_y": null,
       "padding": null,
       "right": null,
       "top": null,
       "visibility": null,
       "width": null
      }
     },
     "576fea3f39e74dba8890c90bf082489c": {
      "model_module": "@jupyter-widgets/controls",
      "model_module_version": "1.5.0",
      "model_name": "HTMLModel",
      "state": {
       "_dom_classes": [],
       "_model_module": "@jupyter-widgets/controls",
       "_model_module_version": "1.5.0",
       "_model_name": "HTMLModel",
       "_view_count": null,
       "_view_module": "@jupyter-widgets/controls",
       "_view_module_version": "1.5.0",
       "_view_name": "HTMLView",
       "description": "",
       "description_tooltip": null,
       "layout": "IPY_MODEL_518cd10ddb5947d389915f5dc27c5743",
       "placeholder": "​",
       "style": "IPY_MODEL_64272ec2076e4286acd59d35dc929ea7",
       "value": "100%"
      }
     },
     "5a508b560b0d4466b80afc21b3f5999c": {
      "model_module": "@jupyter-widgets/base",
      "model_module_version": "1.2.0",
      "model_name": "LayoutModel",
      "state": {
       "_model_module": "@jupyter-widgets/base",
       "_model_module_version": "1.2.0",
       "_model_name": "LayoutModel",
       "_view_count": null,
       "_view_module": "@jupyter-widgets/base",
       "_view_module_version": "1.2.0",
       "_view_name": "LayoutView",
       "align_content": null,
       "align_items": null,
       "align_self": null,
       "border": null,
       "bottom": null,
       "display": null,
       "flex": null,
       "flex_flow": null,
       "grid_area": null,
       "grid_auto_columns": null,
       "grid_auto_flow": null,
       "grid_auto_rows": null,
       "grid_column": null,
       "grid_gap": null,
       "grid_row": null,
       "grid_template_areas": null,
       "grid_template_columns": null,
       "grid_template_rows": null,
       "height": null,
       "justify_content": null,
       "justify_items": null,
       "left": null,
       "margin": null,
       "max_height": null,
       "max_width": null,
       "min_height": null,
       "min_width": null,
       "object_fit": null,
       "object_position": null,
       "order": null,
       "overflow": null,
       "overflow_x": null,
       "overflow_y": null,
       "padding": null,
       "right": null,
       "top": null,
       "visibility": null,
       "width": null
      }
     },
     "5cd5e50a4f8a4b76b225f9404c36063d": {
      "model_module": "@jupyter-widgets/base",
      "model_module_version": "1.2.0",
      "model_name": "LayoutModel",
      "state": {
       "_model_module": "@jupyter-widgets/base",
       "_model_module_version": "1.2.0",
       "_model_name": "LayoutModel",
       "_view_count": null,
       "_view_module": "@jupyter-widgets/base",
       "_view_module_version": "1.2.0",
       "_view_name": "LayoutView",
       "align_content": null,
       "align_items": null,
       "align_self": null,
       "border": null,
       "bottom": null,
       "display": null,
       "flex": null,
       "flex_flow": null,
       "grid_area": null,
       "grid_auto_columns": null,
       "grid_auto_flow": null,
       "grid_auto_rows": null,
       "grid_column": null,
       "grid_gap": null,
       "grid_row": null,
       "grid_template_areas": null,
       "grid_template_columns": null,
       "grid_template_rows": null,
       "height": null,
       "justify_content": null,
       "justify_items": null,
       "left": null,
       "margin": null,
       "max_height": null,
       "max_width": null,
       "min_height": null,
       "min_width": null,
       "object_fit": null,
       "object_position": null,
       "order": null,
       "overflow": null,
       "overflow_x": null,
       "overflow_y": null,
       "padding": null,
       "right": null,
       "top": null,
       "visibility": null,
       "width": null
      }
     },
     "5d9a2bde8edc4a9d935069154e5f5a16": {
      "model_module": "@jupyter-widgets/controls",
      "model_module_version": "1.5.0",
      "model_name": "ProgressStyleModel",
      "state": {
       "_model_module": "@jupyter-widgets/controls",
       "_model_module_version": "1.5.0",
       "_model_name": "ProgressStyleModel",
       "_view_count": null,
       "_view_module": "@jupyter-widgets/base",
       "_view_module_version": "1.2.0",
       "_view_name": "StyleView",
       "bar_color": null,
       "description_width": ""
      }
     },
     "64272ec2076e4286acd59d35dc929ea7": {
      "model_module": "@jupyter-widgets/controls",
      "model_module_version": "1.5.0",
      "model_name": "DescriptionStyleModel",
      "state": {
       "_model_module": "@jupyter-widgets/controls",
       "_model_module_version": "1.5.0",
       "_model_name": "DescriptionStyleModel",
       "_view_count": null,
       "_view_module": "@jupyter-widgets/base",
       "_view_module_version": "1.2.0",
       "_view_name": "StyleView",
       "description_width": ""
      }
     },
     "79ab4ac1a31e453093f18b1182ea7e2e": {
      "model_module": "@jupyter-widgets/controls",
      "model_module_version": "1.5.0",
      "model_name": "DescriptionStyleModel",
      "state": {
       "_model_module": "@jupyter-widgets/controls",
       "_model_module_version": "1.5.0",
       "_model_name": "DescriptionStyleModel",
       "_view_count": null,
       "_view_module": "@jupyter-widgets/base",
       "_view_module_version": "1.2.0",
       "_view_name": "StyleView",
       "description_width": ""
      }
     },
     "7e65b54590da4f939711df828ecf6020": {
      "model_module": "@jupyter-widgets/controls",
      "model_module_version": "1.5.0",
      "model_name": "FloatProgressModel",
      "state": {
       "_dom_classes": [],
       "_model_module": "@jupyter-widgets/controls",
       "_model_module_version": "1.5.0",
       "_model_name": "FloatProgressModel",
       "_view_count": null,
       "_view_module": "@jupyter-widgets/controls",
       "_view_module_version": "1.5.0",
       "_view_name": "ProgressView",
       "bar_style": "success",
       "description": "",
       "description_tooltip": null,
       "layout": "IPY_MODEL_5a508b560b0d4466b80afc21b3f5999c",
       "max": 102530333.0,
       "min": 0.0,
       "orientation": "horizontal",
       "style": "IPY_MODEL_1e09233f7b2b462d8f1f997e94419f8d",
       "value": 102530333.0
      }
     },
     "8aa3b2d10f55420d920be1edd707b6c1": {
      "model_module": "@jupyter-widgets/controls",
      "model_module_version": "1.5.0",
      "model_name": "DescriptionStyleModel",
      "state": {
       "_model_module": "@jupyter-widgets/controls",
       "_model_module_version": "1.5.0",
       "_model_name": "DescriptionStyleModel",
       "_view_count": null,
       "_view_module": "@jupyter-widgets/base",
       "_view_module_version": "1.2.0",
       "_view_name": "StyleView",
       "description_width": ""
      }
     },
     "933ea2411d7445ffa688d9a6814dd329": {
      "model_module": "@jupyter-widgets/controls",
      "model_module_version": "1.5.0",
      "model_name": "HBoxModel",
      "state": {
       "_dom_classes": [],
       "_model_module": "@jupyter-widgets/controls",
       "_model_module_version": "1.5.0",
       "_model_name": "HBoxModel",
       "_view_count": null,
       "_view_module": "@jupyter-widgets/controls",
       "_view_module_version": "1.5.0",
       "_view_name": "HBoxView",
       "box_style": "",
       "children": [
        "IPY_MODEL_576fea3f39e74dba8890c90bf082489c",
        "IPY_MODEL_2c12a3d3bae34fb393ef5a534b820d3f",
        "IPY_MODEL_d739dc97efb24b268675505132b4b91a"
       ],
       "layout": "IPY_MODEL_17a3f0f83c96487d90984f138f7094fc"
      }
     },
     "981d51c7bfb24ad6afab803b6d8873c7": {
      "model_module": "@jupyter-widgets/base",
      "model_module_version": "1.2.0",
      "model_name": "LayoutModel",
      "state": {
       "_model_module": "@jupyter-widgets/base",
       "_model_module_version": "1.2.0",
       "_model_name": "LayoutModel",
       "_view_count": null,
       "_view_module": "@jupyter-widgets/base",
       "_view_module_version": "1.2.0",
       "_view_name": "LayoutView",
       "align_content": null,
       "align_items": null,
       "align_self": null,
       "border": null,
       "bottom": null,
       "display": null,
       "flex": null,
       "flex_flow": null,
       "grid_area": null,
       "grid_auto_columns": null,
       "grid_auto_flow": null,
       "grid_auto_rows": null,
       "grid_column": null,
       "grid_gap": null,
       "grid_row": null,
       "grid_template_areas": null,
       "grid_template_columns": null,
       "grid_template_rows": null,
       "height": null,
       "justify_content": null,
       "justify_items": null,
       "left": null,
       "margin": null,
       "max_height": null,
       "max_width": null,
       "min_height": null,
       "min_width": null,
       "object_fit": null,
       "object_position": null,
       "order": null,
       "overflow": null,
       "overflow_x": null,
       "overflow_y": null,
       "padding": null,
       "right": null,
       "top": null,
       "visibility": null,
       "width": null
      }
     },
     "9ada1ebeb48649ba95d306e8955f381f": {
      "model_module": "@jupyter-widgets/base",
      "model_module_version": "1.2.0",
      "model_name": "LayoutModel",
      "state": {
       "_model_module": "@jupyter-widgets/base",
       "_model_module_version": "1.2.0",
       "_model_name": "LayoutModel",
       "_view_count": null,
       "_view_module": "@jupyter-widgets/base",
       "_view_module_version": "1.2.0",
       "_view_name": "LayoutView",
       "align_content": null,
       "align_items": null,
       "align_self": null,
       "border": null,
       "bottom": null,
       "display": null,
       "flex": null,
       "flex_flow": null,
       "grid_area": null,
       "grid_auto_columns": null,
       "grid_auto_flow": null,
       "grid_auto_rows": null,
       "grid_column": null,
       "grid_gap": null,
       "grid_row": null,
       "grid_template_areas": null,
       "grid_template_columns": null,
       "grid_template_rows": null,
       "height": null,
       "justify_content": null,
       "justify_items": null,
       "left": null,
       "margin": null,
       "max_height": null,
       "max_width": null,
       "min_height": null,
       "min_width": null,
       "object_fit": null,
       "object_position": null,
       "order": null,
       "overflow": null,
       "overflow_x": null,
       "overflow_y": null,
       "padding": null,
       "right": null,
       "top": null,
       "visibility": null,
       "width": null
      }
     },
     "9c652333d2914c1db03105cb8dd8e16f": {
      "model_module": "@jupyter-widgets/controls",
      "model_module_version": "1.5.0",
      "model_name": "DescriptionStyleModel",
      "state": {
       "_model_module": "@jupyter-widgets/controls",
       "_model_module_version": "1.5.0",
       "_model_name": "DescriptionStyleModel",
       "_view_count": null,
       "_view_module": "@jupyter-widgets/base",
       "_view_module_version": "1.2.0",
       "_view_name": "StyleView",
       "description_width": ""
      }
     },
     "a9f2133691974b0392382850b7fa75e8": {
      "model_module": "@jupyter-widgets/base",
      "model_module_version": "1.2.0",
      "model_name": "LayoutModel",
      "state": {
       "_model_module": "@jupyter-widgets/base",
       "_model_module_version": "1.2.0",
       "_model_name": "LayoutModel",
       "_view_count": null,
       "_view_module": "@jupyter-widgets/base",
       "_view_module_version": "1.2.0",
       "_view_name": "LayoutView",
       "align_content": null,
       "align_items": null,
       "align_self": null,
       "border": null,
       "bottom": null,
       "display": null,
       "flex": null,
       "flex_flow": null,
       "grid_area": null,
       "grid_auto_columns": null,
       "grid_auto_flow": null,
       "grid_auto_rows": null,
       "grid_column": null,
       "grid_gap": null,
       "grid_row": null,
       "grid_template_areas": null,
       "grid_template_columns": null,
       "grid_template_rows": null,
       "height": null,
       "justify_content": null,
       "justify_items": null,
       "left": null,
       "margin": null,
       "max_height": null,
       "max_width": null,
       "min_height": null,
       "min_width": null,
       "object_fit": null,
       "object_position": null,
       "order": null,
       "overflow": null,
       "overflow_x": null,
       "overflow_y": null,
       "padding": null,
       "right": null,
       "top": null,
       "visibility": null,
       "width": null
      }
     },
     "b9411fadd47a4fc4ab2d05687c0e4369": {
      "model_module": "@jupyter-widgets/controls",
      "model_module_version": "1.5.0",
      "model_name": "HBoxModel",
      "state": {
       "_dom_classes": [],
       "_model_module": "@jupyter-widgets/controls",
       "_model_module_version": "1.5.0",
       "_model_name": "HBoxModel",
       "_view_count": null,
       "_view_module": "@jupyter-widgets/controls",
       "_view_module_version": "1.5.0",
       "_view_name": "HBoxView",
       "box_style": "",
       "children": [
        "IPY_MODEL_fa4660ac70b14e988af394f80e8eceac",
        "IPY_MODEL_7e65b54590da4f939711df828ecf6020",
        "IPY_MODEL_dd5659e9aa70435f9fb7744af84d1ed2"
       ],
       "layout": "IPY_MODEL_df5d66ab7f4045ecad4a6c43fb84ba19"
      }
     },
     "d739dc97efb24b268675505132b4b91a": {
      "model_module": "@jupyter-widgets/controls",
      "model_module_version": "1.5.0",
      "model_name": "HTMLModel",
      "state": {
       "_dom_classes": [],
       "_model_module": "@jupyter-widgets/controls",
       "_model_module_version": "1.5.0",
       "_model_name": "HTMLModel",
       "_view_count": null,
       "_view_module": "@jupyter-widgets/controls",
       "_view_module_version": "1.5.0",
       "_view_name": "HTMLView",
       "description": "",
       "description_tooltip": null,
       "layout": "IPY_MODEL_9ada1ebeb48649ba95d306e8955f381f",
       "placeholder": "​",
       "style": "IPY_MODEL_79ab4ac1a31e453093f18b1182ea7e2e",
       "value": " 20.5M/20.5M [00:03&lt;00:00, 11.9MB/s]"
      }
     },
     "dd5659e9aa70435f9fb7744af84d1ed2": {
      "model_module": "@jupyter-widgets/controls",
      "model_module_version": "1.5.0",
      "model_name": "HTMLModel",
      "state": {
       "_dom_classes": [],
       "_model_module": "@jupyter-widgets/controls",
       "_model_module_version": "1.5.0",
       "_model_name": "HTMLModel",
       "_view_count": null,
       "_view_module": "@jupyter-widgets/controls",
       "_view_module_version": "1.5.0",
       "_view_name": "HTMLView",
       "description": "",
       "description_tooltip": null,
       "layout": "IPY_MODEL_5cd5e50a4f8a4b76b225f9404c36063d",
       "placeholder": "​",
       "style": "IPY_MODEL_8aa3b2d10f55420d920be1edd707b6c1",
       "value": " 97.8M/97.8M [00:09&lt;00:00, 11.8MB/s]"
      }
     },
     "df5d66ab7f4045ecad4a6c43fb84ba19": {
      "model_module": "@jupyter-widgets/base",
      "model_module_version": "1.2.0",
      "model_name": "LayoutModel",
      "state": {
       "_model_module": "@jupyter-widgets/base",
       "_model_module_version": "1.2.0",
       "_model_name": "LayoutModel",
       "_view_count": null,
       "_view_module": "@jupyter-widgets/base",
       "_view_module_version": "1.2.0",
       "_view_name": "LayoutView",
       "align_content": null,
       "align_items": null,
       "align_self": null,
       "border": null,
       "bottom": null,
       "display": null,
       "flex": null,
       "flex_flow": null,
       "grid_area": null,
       "grid_auto_columns": null,
       "grid_auto_flow": null,
       "grid_auto_rows": null,
       "grid_column": null,
       "grid_gap": null,
       "grid_row": null,
       "grid_template_areas": null,
       "grid_template_columns": null,
       "grid_template_rows": null,
       "height": null,
       "justify_content": null,
       "justify_items": null,
       "left": null,
       "margin": null,
       "max_height": null,
       "max_width": null,
       "min_height": null,
       "min_width": null,
       "object_fit": null,
       "object_position": null,
       "order": null,
       "overflow": null,
       "overflow_x": null,
       "overflow_y": null,
       "padding": null,
       "right": null,
       "top": null,
       "visibility": null,
       "width": null
      }
     },
     "fa4660ac70b14e988af394f80e8eceac": {
      "model_module": "@jupyter-widgets/controls",
      "model_module_version": "1.5.0",
      "model_name": "HTMLModel",
      "state": {
       "_dom_classes": [],
       "_model_module": "@jupyter-widgets/controls",
       "_model_module_version": "1.5.0",
       "_model_name": "HTMLModel",
       "_view_count": null,
       "_view_module": "@jupyter-widgets/controls",
       "_view_module_version": "1.5.0",
       "_view_name": "HTMLView",
       "description": "",
       "description_tooltip": null,
       "layout": "IPY_MODEL_a9f2133691974b0392382850b7fa75e8",
       "placeholder": "​",
       "style": "IPY_MODEL_9c652333d2914c1db03105cb8dd8e16f",
       "value": "100%"
      }
     }
    },
    "version_major": 2,
    "version_minor": 0
   }
  }
 },
 "nbformat": 4,
 "nbformat_minor": 5
}
